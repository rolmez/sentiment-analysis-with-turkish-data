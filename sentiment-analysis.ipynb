{
 "cells": [
  {
   "cell_type": "markdown",
   "metadata": {},
   "source": [
    "# Gerekli Kütüphanelerin Aktarılması"
   ]
  },
  {
   "cell_type": "code",
   "execution_count": 337,
   "metadata": {},
   "outputs": [],
   "source": [
    "import pandas as pd\n",
    "import numpy as np\n",
    "import nltk\n",
    "from bs4 import BeautifulSoup\n",
    "import seaborn as sns\n",
    "import matplotlib.pyplot as plt\n",
    "import re\n",
    "\n",
    "pd.options.display.max_colwidth = 150 # Büyük Tweetlerin gösterilmesi için\n",
    "\n",
    "import os\n",
    "import warnings\n",
    "warnings.filterwarnings('ignore')"
   ]
  },
  {
   "cell_type": "markdown",
   "metadata": {},
   "source": [
    "# Veri Okunması"
   ]
  },
  {
   "cell_type": "code",
   "execution_count": 338,
   "metadata": {},
   "outputs": [
    {
     "data": {
      "text/html": [
       "<div>\n",
       "<style scoped>\n",
       "    .dataframe tbody tr th:only-of-type {\n",
       "        vertical-align: middle;\n",
       "    }\n",
       "\n",
       "    .dataframe tbody tr th {\n",
       "        vertical-align: top;\n",
       "    }\n",
       "\n",
       "    .dataframe thead th {\n",
       "        text-align: right;\n",
       "    }\n",
       "</style>\n",
       "<table border=\"1\" class=\"dataframe\">\n",
       "  <thead>\n",
       "    <tr style=\"text-align: right;\">\n",
       "      <th></th>\n",
       "      <th>Tweets</th>\n",
       "      <th>Sentiment</th>\n",
       "    </tr>\n",
       "  </thead>\n",
       "  <tbody>\n",
       "    <tr>\n",
       "      <th>0</th>\n",
       "      <td>Turkcell'in sahibi kim..Atarı kime acaba bu arkadaşın..</td>\n",
       "      <td>Positive</td>\n",
       "    </tr>\n",
       "    <tr>\n",
       "      <th>1</th>\n",
       "      <td>Benim var dışardan gelene 50 lira yaptığınız tarife 17 yıllık müşteriniz olan bana 105 lira. Değiştireceğim az kaldo @vodafone @Turkcell hangisi d...</td>\n",
       "      <td>Positive</td>\n",
       "    </tr>\n",
       "    <tr>\n",
       "      <th>2</th>\n",
       "      <td>@TurkcellHizmet  acaba Turkcell bana da bi kalp gönderir mi ?</td>\n",
       "      <td>Positive</td>\n",
       "    </tr>\n",
       "    <tr>\n",
       "      <th>3</th>\n",
       "      <td>Turkcell ceo dediki. Cezanın ayarını cezayı yazan arkadaşların kendi vicdanlarına bırakıyorum. Bizdeki 1 saat 15 dakikalık yoğunluk, kesinti değil...</td>\n",
       "      <td>Positive</td>\n",
       "    </tr>\n",
       "    <tr>\n",
       "      <th>4</th>\n",
       "      <td>15 günlük @TurkTelekom meceramda anladımkı ucuz etin yahnisi olmazmış keşke  bizi hakkıyla öpen @Turkcell den ayrılmasaydım nasipse yarın saat 14....</td>\n",
       "      <td>Positive</td>\n",
       "    </tr>\n",
       "  </tbody>\n",
       "</table>\n",
       "</div>"
      ],
      "text/plain": [
       "                                                                                                                                                  Tweets  \\\n",
       "0                                                                                                Turkcell'in sahibi kim..Atarı kime acaba bu arkadaşın..   \n",
       "1  Benim var dışardan gelene 50 lira yaptığınız tarife 17 yıllık müşteriniz olan bana 105 lira. Değiştireceğim az kaldo @vodafone @Turkcell hangisi d...   \n",
       "2                                                                                         @TurkcellHizmet  acaba Turkcell bana da bi kalp gönderir mi ?    \n",
       "3  Turkcell ceo dediki. Cezanın ayarını cezayı yazan arkadaşların kendi vicdanlarına bırakıyorum. Bizdeki 1 saat 15 dakikalık yoğunluk, kesinti değil...   \n",
       "4  15 günlük @TurkTelekom meceramda anladımkı ucuz etin yahnisi olmazmış keşke  bizi hakkıyla öpen @Turkcell den ayrılmasaydım nasipse yarın saat 14....   \n",
       "\n",
       "  Sentiment  \n",
       "0  Positive  \n",
       "1  Positive  \n",
       "2  Positive  \n",
       "3  Positive  \n",
       "4  Positive  "
      ]
     },
     "execution_count": 338,
     "metadata": {},
     "output_type": "execute_result"
    }
   ],
   "source": [
    "turkcell_data = pd.read_csv(\"all.csv\")\n",
    "turkcell_data = turkcell_data.drop(['created_at', 'date', 'time', 'username'], axis = 1)\n",
    "turkcell_data.columns = ['Tweets', 'Sentiment']\n",
    "turkcell_data.Sentiment.replace([0, 4], ['Negative', 'Positive'], inplace = True)\n",
    "turkcell_data.head()"
   ]
  },
  {
   "cell_type": "markdown",
   "metadata": {},
   "source": [
    "# Veri Hakkında Bilgi"
   ]
  },
  {
   "cell_type": "code",
   "execution_count": 339,
   "metadata": {},
   "outputs": [
    {
     "data": {
      "text/html": [
       "<div>\n",
       "<style scoped>\n",
       "    .dataframe tbody tr th:only-of-type {\n",
       "        vertical-align: middle;\n",
       "    }\n",
       "\n",
       "    .dataframe tbody tr th {\n",
       "        vertical-align: top;\n",
       "    }\n",
       "\n",
       "    .dataframe thead th {\n",
       "        text-align: right;\n",
       "    }\n",
       "</style>\n",
       "<table border=\"1\" class=\"dataframe\">\n",
       "  <thead>\n",
       "    <tr style=\"text-align: right;\">\n",
       "      <th></th>\n",
       "      <th>Tweets</th>\n",
       "      <th>Sentiment</th>\n",
       "    </tr>\n",
       "  </thead>\n",
       "  <tbody>\n",
       "    <tr>\n",
       "      <th>count</th>\n",
       "      <td>10700</td>\n",
       "      <td>10700</td>\n",
       "    </tr>\n",
       "    <tr>\n",
       "      <th>unique</th>\n",
       "      <td>10644</td>\n",
       "      <td>2</td>\n",
       "    </tr>\n",
       "    <tr>\n",
       "      <th>top</th>\n",
       "      <td>Turkcell</td>\n",
       "      <td>Positive</td>\n",
       "    </tr>\n",
       "    <tr>\n",
       "      <th>freq</th>\n",
       "      <td>8</td>\n",
       "      <td>5500</td>\n",
       "    </tr>\n",
       "  </tbody>\n",
       "</table>\n",
       "</div>"
      ],
      "text/plain": [
       "          Tweets Sentiment\n",
       "count      10700     10700\n",
       "unique     10644         2\n",
       "top     Turkcell  Positive\n",
       "freq           8      5500"
      ]
     },
     "execution_count": 339,
     "metadata": {},
     "output_type": "execute_result"
    }
   ],
   "source": [
    "turkcell_data.describe()"
   ]
  },
  {
   "cell_type": "code",
   "execution_count": 340,
   "metadata": {},
   "outputs": [
    {
     "data": {
      "text/plain": [
       "Positive    5500\n",
       "Negative    5200\n",
       "Name: Sentiment, dtype: int64"
      ]
     },
     "execution_count": 340,
     "metadata": {},
     "output_type": "execute_result"
    }
   ],
   "source": [
    "turkcell_data['Sentiment'].value_counts()"
   ]
  },
  {
   "cell_type": "code",
   "execution_count": 341,
   "metadata": {},
   "outputs": [
    {
     "data": {
      "text/html": [
       "<div>\n",
       "<style scoped>\n",
       "    .dataframe tbody tr th:only-of-type {\n",
       "        vertical-align: middle;\n",
       "    }\n",
       "\n",
       "    .dataframe tbody tr th {\n",
       "        vertical-align: top;\n",
       "    }\n",
       "\n",
       "    .dataframe thead th {\n",
       "        text-align: right;\n",
       "    }\n",
       "</style>\n",
       "<table border=\"1\" class=\"dataframe\">\n",
       "  <thead>\n",
       "    <tr style=\"text-align: right;\">\n",
       "      <th></th>\n",
       "      <th>Tweets</th>\n",
       "      <th>Sentiment</th>\n",
       "      <th>TextSize</th>\n",
       "    </tr>\n",
       "  </thead>\n",
       "  <tbody>\n",
       "    <tr>\n",
       "      <th>10695</th>\n",
       "      <td>Turkcell kadar leşşi bi firma görmedim amk şu korona geçsin ayağımı atarsam adam değilim</td>\n",
       "      <td>Negative</td>\n",
       "      <td>88</td>\n",
       "    </tr>\n",
       "    <tr>\n",
       "      <th>10696</th>\n",
       "      <td>@TurkcellHizmet turkcel yökün hediye ettiği 6 gb vermemek için direniyor! Bu ne rezilliktir? @Turkcell  pic.twitter.com/mBUJY3EOyT</td>\n",
       "      <td>Negative</td>\n",
       "      <td>130</td>\n",
       "    </tr>\n",
       "    <tr>\n",
       "      <th>10697</th>\n",
       "      <td>@Turkcell  25 yıllık Turkcell kesintisiniz faturalı abonesiyim. Coranadan dolayı ilk defa faturamı ödeyemedim . Hattımı kesmişler . Ayıppp</td>\n",
       "      <td>Negative</td>\n",
       "      <td>138</td>\n",
       "    </tr>\n",
       "    <tr>\n",
       "      <th>10698</th>\n",
       "      <td>Başka operatörden Turkcell’e geçirdim 6 hattımı ama Turkcell interneti çok kötü.tekrar dönmeyi sorguluyorum kendi kendime.aramalarımı Wi-Fi destek...</td>\n",
       "      <td>Negative</td>\n",
       "      <td>272</td>\n",
       "    </tr>\n",
       "    <tr>\n",
       "      <th>10699</th>\n",
       "      <td>@TurkcellHizmet Turkcell kalitesi bu mu? 30dk müşteri yetkilisine dert anlattım,asssla çözüm sunmadı, yapacak bişey yok, kalma sözü vermişsiniz di...</td>\n",
       "      <td>Negative</td>\n",
       "      <td>279</td>\n",
       "    </tr>\n",
       "  </tbody>\n",
       "</table>\n",
       "</div>"
      ],
      "text/plain": [
       "                                                                                                                                                      Tweets  \\\n",
       "10695                                                               Turkcell kadar leşşi bi firma görmedim amk şu korona geçsin ayağımı atarsam adam değilim   \n",
       "10696                     @TurkcellHizmet turkcel yökün hediye ettiği 6 gb vermemek için direniyor! Bu ne rezilliktir? @Turkcell  pic.twitter.com/mBUJY3EOyT   \n",
       "10697             @Turkcell  25 yıllık Turkcell kesintisiniz faturalı abonesiyim. Coranadan dolayı ilk defa faturamı ödeyemedim . Hattımı kesmişler . Ayıppp   \n",
       "10698  Başka operatörden Turkcell’e geçirdim 6 hattımı ama Turkcell interneti çok kötü.tekrar dönmeyi sorguluyorum kendi kendime.aramalarımı Wi-Fi destek...   \n",
       "10699  @TurkcellHizmet Turkcell kalitesi bu mu? 30dk müşteri yetkilisine dert anlattım,asssla çözüm sunmadı, yapacak bişey yok, kalma sözü vermişsiniz di...   \n",
       "\n",
       "      Sentiment  TextSize  \n",
       "10695  Negative        88  \n",
       "10696  Negative       130  \n",
       "10697  Negative       138  \n",
       "10698  Negative       272  \n",
       "10699  Negative       279  "
      ]
     },
     "execution_count": 341,
     "metadata": {},
     "output_type": "execute_result"
    }
   ],
   "source": [
    "turkcell_data['TextSize'] = [len(t) for t in turkcell_data.Tweets]\n",
    "turkcell_data.tail()"
   ]
  },
  {
   "cell_type": "code",
   "execution_count": 342,
   "metadata": {},
   "outputs": [
    {
     "data": {
      "image/png": "[encoded data removed]",
      "text/plain": [
       "<Figure size 432x288 with 1 Axes>"
      ]
     },
     "metadata": {
      "needs_background": "light"
     },
     "output_type": "display_data"
    }
   ],
   "source": [
    "import matplotlib\n",
    "import matplotlib.pyplot as plt\n",
    "\n",
    "plt.boxplot(turkcell_data.TextSize) # plot TextSize column\n",
    "plt.show()"
   ]
  },
  {
   "cell_type": "markdown",
   "metadata": {},
   "source": [
    "# Visualize The Tweets"
   ]
  },
  {
   "cell_type": "code",
   "execution_count": 343,
   "metadata": {},
   "outputs": [
    {
     "data": {
      "text/plain": [
       "5261     Mahalle yanarken @Turkcell @TurkcellHizmet yine saçını tarıyor. Aman burnunuzdan kıl aldırmayın, elbet bugünlerde geçecek. pic.twitter.com/eBjp77rYx1\n",
       "4401     Sevgili @Turkcell şu modemlerinizin arka odadan salona kadar ulaşamayan wireless sinyal gücünüzü çok seviyorum. Bari modemin yanında bir sinyal ar...\n",
       "5600                                                  turkcell senin ben aq salla kazandan 263829919 yıldır direkt internet vermedin nası bi şey bu ya ağlicam\n",
       "5874                      Turkcell Hisse Önerisi / İş Yatırım – (08.04.2020)  https://www.hisseonerileri.com/i/turkcell-hisse-onerisi-is-yatirim-08-04-2020/ …\n",
       "2893     Anlatmayı düşünmüyordum çünkü yıllardır @Turkcell kullanıcısıyım ve gerçekten ücret olarak diğer operatörlerden daha pahalı bulsam da hizmetlerind...\n",
       "3540                                                                                                                               Seni seviyoruz @Turkcell ❤️\n",
       "5092     Merhabalar @Turkcell sizden wıın modem aldım iptal etmek için şubenize başvuru yaptım şubeniz erken iptal bedeli olarak 238 tl para ödüceksiniz de...\n",
       "1924     Sayın @RTErdogan @tcbestepe @UABakanligi @Mcahidturhan @BTKgovtr @BTKbasin \\nTürkiye'nin 83 milyon vatandaşını şu 3 operatörün @Turkcell @Vodafone...\n",
       "8778     Ülkenin zenginleri #EvdeKal diyip duruyor kimse düşük gelirlileri ve şuan 2.5 ay civarı çalışmadan evde duran insanları düşünmüyor bu iş siyaset m...\n",
       "5227     @Turkcell ya işinizi düzgün yapın yada bu işi yapmayın kardeşim sizin profilinize girerken bile hücresel kullanmak zorunda kalıyorum sana ulaşmama...\n",
       "5936                                                                                                                                                  Turkcell\n",
       "2047         Bir tek bana uygun tarife bulunmuyor sizde. Yıllardır Turkcell kullanıyorum ama siz beni yıllardır zorluyorsunuz başka bir operatöre geçmem için.\n",
       "1451                                                                                                         Her zaman soylemisimdir canım Turkcell. @Turkcell\n",
       "2791                                           TABİİ Kİ SİZİN REZİL HİZMET ANLAYIŞINIZI ŞİKAYET EDECEKTİR #TURKCELL TÜRKİYE NİN EN BÜYÜK DOLANDIRICI OPERATÖRÜ\n",
       "6997                                                                                                                                 Superonline pişmanlıktır.\n",
       "5393                         Asker yolu bekler gibi bekliyorum seni #superonline alan ekibi 4 gün oldu bi gelip interneti bağlamadınız. #Turkcell #superonline\n",
       "1611     eski müşterilerin kıymetinin olmadığı konusunda arkadaşa kesinlikle katılıyorum. 10 yıldır turkcell kullanıyorum ama yaptığım paket ücretiyle 2 ay...\n",
       "9670                                                          @Turkcell @TurkcellHizmet  size diyor he duyarlı olalım lutfeeennnn😎😂 pic.twitter.com/dpFhsCQj8T\n",
       "7287                                                    Turkcell asistan uygulamasi otomatik cevap vermekten başka ne işe yariyor #turkcell #turkcellpismanlik\n",
       "1082     Geçirmişler. Fatura dönemi fark ettik, itiraz falan ettik, biz açmadık, böyle bir talebimiz de yok dedik ama nafile. Ödedik faturaları ama ardında...\n",
       "827      @TurkcellHizmet geçiş yapmış bulunmaktayım. Memnunum lakin bu aralar internet ağı kötüdür. İlk ayım çok iyiydi. Bazı yerlerde vodafene çekmesine r...\n",
       "580                   10 yıllık @Turkcell SuperOnline  kullanicisiydim, SuperOnline’ın %1’i kadar hizmet veremiyorsunuz. Gercekten buyuk bir hayal kirikligi..\n",
       "6380                                         Rahat paketten hazır karta geçişim Turkcell müşteri hizmetleri tarafından olmuyor mu? \\n@TurkcellHizmet @Turkcell\n",
       "3144     Tabii ki devam ediyor. Turkcell e geçtiğimden beri devam ediyor. Bugün müşteri hizmetleriyle de görüştüm. Onların gönderdiği linkten tekrar indird...\n",
       "1405     Benide harika tv uyeligi adi altinda dolandirdilar. Zaten cekmiyordu @Turkcell turkcelle gectim 10 lira fazla veriyorum ama kaliteden dolayi haked...\n",
       "8732     Evet turkcell superonline hizmetinizden oldukça memnunum fakat şu sıralar fiber internete yaptığınız hız artırımını diğer internet saglayicilirani...\n",
       "523                                                                   Kemal bey süper bir TURKCELL tarifem var 2 GB 1000 DK 100 SMS 90 TL nasıl dolandırıcılık\n",
       "1610     “DÜNYA ŞİRKETİ” ?\\n\\nTürkiye’nin ve dünyanın en önemli teknoloji şirketlerinden üçü hakkında iki gazeteci (Murat Ağırel ve Batuhan Çolak) çok cidd...\n",
       "7722                                                                     Üç gün önce düşünmüştüm şimdi düşünmüyorum saol samet reis  @Turkcell @TurkcellHizmet\n",
       "7098                                                                                                                               Az kaldı Turkcell e geçicem\n",
       "3833     @VodafoneTR  Şu zor zamanlarda evden hizmet veriyorsunuz ama size ulaşmak imkansızmış gibi değil bir de temsilcilerinize çeken bir operatör hattı ...\n",
       "10552                                                              15 gündür internet bekliyorum gözünüzü seveyim help  @Turkcell @TurkcellHizmet @SuperYardim\n",
       "381                                                             1998-2020 aynı numara ve birçok kazığını yediğim halde hizmet sunucum dahi değişmedi @Turkcell\n",
       "7054     Sadece seçmen sayısı 27.000 olan bir mahallede yeteli nüfus yoğunluğu olmadığı için şebeke çalışması yapmıyoruz diyerek geçiştirdiler. #Turkcell #...\n",
       "3966                                                                   Çok teşekkürler @Turkcell #EvdeHayatyok senin sayend...🤬🤬🤬🤬🤬 pic.twitter.com/YfRsRXXfuJ\n",
       "8575                                           @Turkcell kullanıyorum hattı üç ay bedava kullandırmayı taahhüt ederseniz numaramı taşımak isterim. @VodafoneTR\n",
       "9888                                             İnternet neden bu kadar hızlı azalıyor ya Turkcell noluyoruz 1 günde 1 gb gidiyor hiçbir şey yapmadığım halde\n",
       "3212                                                     @TurkcellHizmet benim için de kocaman bir pişmanlık oldu.. Taahhütün bitmesini dört gözle bekliyorum.\n",
       "6694     İçimdeki Hazine uygulaması ile tüm çocuklarımız aynı platformda buluşuyor! Otizmli çocuklarımız için özel olarak hazırlanan İçimdeki Hazine'deki e...\n",
       "8690                                                                                                                         Ekran görüntüsü istedim @Turkcell\n",
       "9537     @umitonaltr Kesin gizli gizli Turkcell kullanıyorsundur sen bu saçmalıklara bu kadar duyarsız kalabilmenin başka tanımı olamaz. Ki böyle saçma bir...\n",
       "10592                                                                                                       abisi bari şeymalettünin hatrına ver abi @Turkcell\n",
       "5066     @Turkcell internet başvurusu yapmama ragmen evimde internet baglanamadı  ne ADSL internet ne superbox destekliyor 2020 yılındayız ama hala merkezi...\n",
       "9356                                                          Kanıtlarım var o derece almayın bu hizmeti @TurkcellHizmet @Turkcell  pic.twitter.com/iXjVK1hZx6\n",
       "5767                                           ORTA DOĞU VE BALKANLARIN EN İYİ YAYINCISININ İNTERNETİ GİDİYOR ALOOOO İLGİLENİN HEMEN @Turkcell @TurkcellHizmet\n",
       "6655     Turkcell’in İzmir’deki kurumsal danışmanımızın ismini telefonda anlayamıyoruz hiçbir seferinde özellikle de soramıyoruz çok tatlı ve iyi birisi (y...\n",
       "1863     10 yili askin suredir @Turkcell  musterisiyim 2 adet hattim var.Dun @Turkcell  hat alan kisiler benim yarim kadar fiyata.@Turkcell  kullaniyor.esk...\n",
       "2477                                                                                                      Bu tweet i atmam yarım saat sürdü mükemmel @Turkcell\n",
       "7301                                   Coronadan daha can sıkıcısınız 👏🏼  Ancak şarkıyla bağlanın hayata siz 🙏🏼 @Turkcell @TurkcellHizmet #turkcellsuperonline\n",
       "3538                                                Yav arkadaş adam yardım yapmış burada hala beleş birşeyler bekleyenler var ne çıkarcı insanlar var arkadaş\n",
       "Name: Tweets, dtype: object"
      ]
     },
     "execution_count": 343,
     "metadata": {},
     "output_type": "execute_result"
    }
   ],
   "source": [
    "# Daha fazla bilgi edinmek için rastgele tweetlere göz atıyoruz\n",
    "\n",
    "rand_indexs = np.random.randint(1,len(turkcell_data),50).tolist()\n",
    "turkcell_data['Tweets'].iloc[rand_indexs]"
   ]
  },
  {
   "cell_type": "code",
   "execution_count": 344,
   "metadata": {},
   "outputs": [
    {
     "data": {
      "text/plain": [
       "Text(0.5, 1.0, 'Dataset labels distribuition')"
      ]
     },
     "execution_count": 344,
     "metadata": {},
     "output_type": "execute_result"
    },
    {
     "data": {
      "image/png": "[encoded data removed]",
      "text/plain": [
       "<Figure size 1152x576 with 1 Axes>"
      ]
     },
     "metadata": {
      "needs_background": "light"
     },
     "output_type": "display_data"
    }
   ],
   "source": [
    "from collections import Counter\n",
    "\n",
    "target_tdS = Counter(turkcell_data.Sentiment)\n",
    "\n",
    "plt.figure(figsize=(16,8))\n",
    "plt.bar(target_tdS.keys(), target_tdS.values())\n",
    "plt.title(\"Dataset labels distribuition\")"
   ]
  },
  {
   "cell_type": "markdown",
   "metadata": {},
   "source": [
    "### Veri Setinde Kullanılan İfadeleri Bulacağız"
   ]
  },
  {
   "cell_type": "code",
   "execution_count": 345,
   "metadata": {},
   "outputs": [
    {
     "data": {
      "text/plain": [
       "[(883, ':/'),\n",
       " (161, ': '),\n",
       " (159, ':)'),\n",
       " (49, ':('),\n",
       " (32, ':D'),\n",
       " (11, 'X2'),\n",
       " (9, 'x2'),\n",
       " (9, ':d'),\n",
       " (5, 'x4'),\n",
       " (4, ';)'),\n",
       " (2, \":')\")]"
      ]
     },
     "execution_count": 345,
     "metadata": {},
     "output_type": "execute_result"
    }
   ],
   "source": [
    "tweets_text = turkcell_data.Tweets.str.cat()\n",
    "emoticons = set(re.findall(r\" ([xX:;][-']?.) \",tweets_text))\n",
    "emoticons_count = []\n",
    "for emot in emoticons:\n",
    "    emoticons_count.append((tweets_text.count(emot), emot))\n",
    "sorted(emoticons_count,reverse=True)"
   ]
  },
  {
   "cell_type": "code",
   "execution_count": 346,
   "metadata": {},
   "outputs": [
    {
     "name": "stdout",
     "output_type": "stream",
     "text": [
      "Happy emoticons: {':D', ';', ':d', ':', ';)', ':)'}\n",
      "Sad emoticons: {':(', ':/'}\n"
     ]
    }
   ],
   "source": [
    "happy_emot = r\" ([xX;:]-?[dD)]|:-?[\\)]|[;:]|[:')][pP]) \"\n",
    "sad_emot = r\" (:'?[/|\\(]) \"\n",
    "print(\"Happy emoticons:\", set(re.findall(happy_emot, tweets_text)))\n",
    "print(\"Sad emoticons:\", set(re.findall(sad_emot, tweets_text)))"
   ]
  },
  {
   "cell_type": "code",
   "execution_count": 347,
   "metadata": {},
   "outputs": [
    {
     "data": {
      "image/png": "[encoded data removed]",
      "text/plain": [
       "<Figure size 1152x936 with 1 Axes>"
      ]
     },
     "metadata": {
      "needs_background": "light"
     },
     "output_type": "display_data"
    }
   ],
   "source": [
    "import matplotlib.pyplot as plt\n",
    "from wordcloud import WordCloud\n",
    "STOPWORDS = open('turkce-stop-words', 'r').read().split()\n",
    "def wordcloud_draw(content, title):\n",
    "    wc = WordCloud(background_color='black', max_words=200,\n",
    "                  stopwords=STOPWORDS, max_font_size=50)\n",
    "    wc.generate(\" \".join(content))\n",
    "    plt.figure(figsize=(16, 13))\n",
    "    plt.title(title, fontsize=20)\n",
    "    plt.imshow(wc.recolor(colormap='Pastel2', random_state=42), alpha=0.98)\n",
    "    plt.axis('off')\n",
    "\n",
    "word_cloud(turkcell_data.Tweets, \"Word Cloud\")"
   ]
  },
  {
   "cell_type": "markdown",
   "metadata": {},
   "source": [
    "# Text Normalization"
   ]
  },
  {
   "cell_type": "code",
   "execution_count": 348,
   "metadata": {},
   "outputs": [],
   "source": [
    "from nltk.tokenize.toktok import ToktokTokenizer\n",
    "\n",
    "#Tokenization of text\n",
    "tokenizer = ToktokTokenizer()\n",
    "\n",
    "#Setting Turkish stopwords\n",
    "stopword_list = open('turkce-stop-words', 'r').read().split()"
   ]
  },
  {
   "cell_type": "code",
   "execution_count": 349,
   "metadata": {},
   "outputs": [],
   "source": [
    "def most_used_words(text):\n",
    "    tokens = tokenizer.tokenize(text)\n",
    "    frequency_dist = nltk.FreqDist(tokens)\n",
    "    print(\"There is %d different words\" % len(set(tokens)))\n",
    "    return sorted(frequency_dist,key=frequency_dist.__getitem__, reverse=True)"
   ]
  },
  {
   "cell_type": "code",
   "execution_count": 350,
   "metadata": {},
   "outputs": [
    {
     "name": "stdout",
     "output_type": "stream",
     "text": [
      "There is 49132 different words\n"
     ]
    },
    {
     "data": {
      "text/plain": [
       "['!',\n",
       " '\"',\n",
       " '#Turkcell',\n",
       " '#turkcell',\n",
       " \"'\",\n",
       " '(',\n",
       " ')',\n",
       " ',',\n",
       " '.',\n",
       " '..',\n",
       " '...',\n",
       " '1',\n",
       " '10',\n",
       " '2',\n",
       " '20',\n",
       " '3',\n",
       " '4',\n",
       " '5',\n",
       " ':',\n",
       " '?',\n",
       " '@TurkTelekom',\n",
       " '@Turkcell',\n",
       " '@TurkcellHizmet',\n",
       " '@VodafoneTR',\n",
       " 'Allah',\n",
       " 'Bir',\n",
       " 'Bu',\n",
       " 'GB',\n",
       " 'Superonline',\n",
       " 'TL',\n",
       " 'Telekom',\n",
       " 'Turkcell',\n",
       " 'Türk',\n",
       " 'Vodafone',\n",
       " 'a',\n",
       " 'ama',\n",
       " 'artık',\n",
       " 'ay',\n",
       " 'aynı',\n",
       " 'bana',\n",
       " 'başka',\n",
       " 'ben',\n",
       " 'beni',\n",
       " 'benim',\n",
       " 'bi',\n",
       " 'bile',\n",
       " 'bir',\n",
       " 'biz',\n",
       " 'bu',\n",
       " 'bunu',\n",
       " 'böyle',\n",
       " 'cevap',\n",
       " 'da',\n",
       " 'daha',\n",
       " 'dan',\n",
       " 'de',\n",
       " 'den',\n",
       " 'destek',\n",
       " 'devam',\n",
       " 'değil',\n",
       " 'diye',\n",
       " 'e',\n",
       " 'en',\n",
       " 'evde',\n",
       " 'fatura',\n",
       " 'fazla',\n",
       " 'gb',\n",
       " 'geri',\n",
       " 'geçtim',\n",
       " 'gibi',\n",
       " 'gün',\n",
       " 'gündür',\n",
       " 'güzel',\n",
       " 'hala',\n",
       " 'hat',\n",
       " 'hediye',\n",
       " 'hem',\n",
       " 'her',\n",
       " 'hizmet',\n",
       " 'hiç',\n",
       " 'i',\n",
       " 'ile',\n",
       " 'ilk',\n",
       " 'in',\n",
       " 'internet',\n",
       " 'interneti',\n",
       " 'iptal',\n",
       " 'iyi',\n",
       " 'için',\n",
       " 'iş',\n",
       " 'kadar',\n",
       " 'ki',\n",
       " 'kullanıyorum',\n",
       " 'lira',\n",
       " 'mesaj',\n",
       " 'mi',\n",
       " 'mu',\n",
       " 'müşteri',\n",
       " 'mı',\n",
       " 'nasıl',\n",
       " 'ne',\n",
       " 'neden',\n",
       " 'o',\n",
       " 'olan',\n",
       " 'olarak',\n",
       " 'oldu',\n",
       " 'olsun',\n",
       " 'olur',\n",
       " 'operatör',\n",
       " 'paket',\n",
       " 'para',\n",
       " 'rağmen',\n",
       " 'saat',\n",
       " 'sadece',\n",
       " 'sen',\n",
       " 'siz',\n",
       " 'size',\n",
       " 'sizin',\n",
       " 'son',\n",
       " 'sonra',\n",
       " 'sorun',\n",
       " 'superbox',\n",
       " 'sürekli',\n",
       " 'telefon',\n",
       " 'tl',\n",
       " 'turkcell',\n",
       " 'tüm',\n",
       " 'var',\n",
       " 've',\n",
       " 'vodafone',\n",
       " 'ya',\n",
       " 'ye',\n",
       " 'yeni',\n",
       " 'yerde',\n",
       " 'yine',\n",
       " 'yok',\n",
       " 'yok.',\n",
       " 'zaman',\n",
       " 'zaten',\n",
       " 'zor',\n",
       " 'çekmiyor',\n",
       " 'çok',\n",
       " 'çözüm',\n",
       " 'önce',\n",
       " 'İnternet',\n",
       " 'şekilde',\n",
       " 'şey',\n",
       " 'şu',\n",
       " '’',\n",
       " '…']"
      ]
     },
     "execution_count": 350,
     "metadata": {},
     "output_type": "execute_result"
    }
   ],
   "source": [
    "sorted(most_used_words(turkcell_data.Tweets.str.cat())[:150])"
   ]
  },
  {
   "cell_type": "code",
   "execution_count": 351,
   "metadata": {},
   "outputs": [
    {
     "name": "stdout",
     "output_type": "stream",
     "text": [
      "There is 49132 different words\n"
     ]
    }
   ],
   "source": [
    "mw = most_used_words(turkcell_data.Tweets.str.cat())\n",
    "most_words = []\n",
    "for w in mw:\n",
    "    if len(most_words) == 1000:\n",
    "        break\n",
    "    if w in stopword_list:\n",
    "        continue\n",
    "    else:\n",
    "        most_words.append(w)"
   ]
  },
  {
   "cell_type": "code",
   "execution_count": 352,
   "metadata": {},
   "outputs": [
    {
     "data": {
      "text/plain": [
       "['!',\n",
       " '\"',\n",
       " '#Turkcell',\n",
       " '#turkcell',\n",
       " \"'\",\n",
       " '(',\n",
       " ')',\n",
       " ',',\n",
       " '.',\n",
       " '..',\n",
       " '...',\n",
       " '1',\n",
       " '10',\n",
       " '15',\n",
       " '2',\n",
       " '20',\n",
       " '24',\n",
       " '3',\n",
       " '30',\n",
       " '4',\n",
       " '5',\n",
       " '6',\n",
       " ':',\n",
       " '?',\n",
       " '@SuperYardim',\n",
       " '@TurkTelekom',\n",
       " '@Turkcell',\n",
       " '@TurkcellHizmet',\n",
       " '@VodafoneDestek',\n",
       " '@VodafoneTR',\n",
       " '@turkcell',\n",
       " 'Allah',\n",
       " 'Ama',\n",
       " 'Ben',\n",
       " 'Bir',\n",
       " 'Bu',\n",
       " 'GB',\n",
       " 'Ne',\n",
       " 'Superonline',\n",
       " 'TL',\n",
       " 'TURKCELL',\n",
       " 'Telekom',\n",
       " 'Turkcell',\n",
       " 'Türk',\n",
       " 'Vodafone',\n",
       " 'a',\n",
       " 'an',\n",
       " 'ay',\n",
       " 'aydır',\n",
       " 'aynı',\n",
       " 'başka',\n",
       " 'be',\n",
       " 'bedeli',\n",
       " 'bende',\n",
       " 'bi',\n",
       " 'bugün',\n",
       " 'büyük',\n",
       " 'cevap',\n",
       " 'dakika',\n",
       " 'den',\n",
       " 'destek',\n",
       " 'devam',\n",
       " 'değil',\n",
       " 'dk',\n",
       " 'dönüş',\n",
       " 'ev',\n",
       " 'evde',\n",
       " 'fatura',\n",
       " 'fazla',\n",
       " 'gb',\n",
       " 'geldi',\n",
       " 'gelen',\n",
       " 'geri',\n",
       " 'gerçekten',\n",
       " 'geçiş',\n",
       " 'geçtim',\n",
       " 'gün',\n",
       " 'gündür',\n",
       " 'günlerde',\n",
       " 'güzel',\n",
       " 'hafta',\n",
       " 'hat',\n",
       " 'hattı',\n",
       " 'hattım',\n",
       " 'hattımı',\n",
       " 'hayat',\n",
       " 'hayata',\n",
       " 'hediye',\n",
       " 'hemen',\n",
       " 'hizmet',\n",
       " 'hizmetleri',\n",
       " 'hız',\n",
       " 'ilk',\n",
       " 'in',\n",
       " 'internet',\n",
       " 'internete',\n",
       " 'interneti',\n",
       " 'iptal',\n",
       " 'istiyorum',\n",
       " 'iyi',\n",
       " 'iş',\n",
       " 'kere',\n",
       " 'kullanıyorum',\n",
       " 'kötü',\n",
       " 'lira',\n",
       " 'lütfen',\n",
       " 'mesaj',\n",
       " 'mobil',\n",
       " 'müşteri',\n",
       " 'nedir',\n",
       " 'operatör',\n",
       " 'pahalı',\n",
       " 'paket',\n",
       " 'paketi',\n",
       " 'para',\n",
       " 'saat',\n",
       " 'salla',\n",
       " 'son',\n",
       " 'sorun',\n",
       " 'sorunu',\n",
       " 'superbox',\n",
       " 'superonline',\n",
       " 'sürekli',\n",
       " 'tek',\n",
       " 'telefon',\n",
       " 'teşekkür',\n",
       " 'teşekkürler',\n",
       " 'tl',\n",
       " 'turkcell',\n",
       " 'var.',\n",
       " 'vodafone',\n",
       " 'yardımcı',\n",
       " 'yeni',\n",
       " 'yerde',\n",
       " 'yok',\n",
       " 'yok.',\n",
       " 'yıl',\n",
       " 'yıldır',\n",
       " 'zaman',\n",
       " 'zamanda',\n",
       " 'zor',\n",
       " 'çekim',\n",
       " 'çekmiyor',\n",
       " 'çözüm',\n",
       " 'ücretsiz',\n",
       " 'üzerinden',\n",
       " 'İnternet',\n",
       " '’',\n",
       " '”',\n",
       " '…']"
      ]
     },
     "execution_count": 352,
     "metadata": {},
     "output_type": "execute_result"
    }
   ],
   "source": [
    "sorted(most_words[:150])"
   ]
  },
  {
   "cell_type": "markdown",
   "metadata": {},
   "source": [
    "# PreProcess"
   ]
  },
  {
   "cell_type": "code",
   "execution_count": 353,
   "metadata": {},
   "outputs": [
    {
     "data": {
      "text/plain": [
       "0                                                                                                      Turkcell'in sahibi kim..Atarı kime acaba bu arkadaşın..\n",
       "1        Benim var dışardan gelene 50 lira yaptığınız tarife 17 yıllık müşteriniz olan bana 105 lira. Değiştireceğim az kaldo @vodafone @Turkcell hangisi d...\n",
       "2                                                                                               @TurkcellHizmet  acaba Turkcell bana da bi kalp gönderir mi ? \n",
       "3        Turkcell ceo dediki. Cezanın ayarını cezayı yazan arkadaşların kendi vicdanlarına bırakıyorum. Bizdeki 1 saat 15 dakikalık yoğunluk, kesinti değil...\n",
       "4        15 günlük @TurkTelekom meceramda anladımkı ucuz etin yahnisi olmazmış keşke  bizi hakkıyla öpen @Turkcell den ayrılmasaydım nasipse yarın saat 14....\n",
       "                                                                                 ...                                                                          \n",
       "10695                                                                 Turkcell kadar leşşi bi firma görmedim amk şu korona geçsin ayağımı atarsam adam değilim\n",
       "10696                       @TurkcellHizmet turkcel yökün hediye ettiği 6 gb vermemek için direniyor! Bu ne rezilliktir? @Turkcell  pic.twitter.com/mBUJY3EOyT\n",
       "10697               @Turkcell  25 yıllık Turkcell kesintisiniz faturalı abonesiyim. Coranadan dolayı ilk defa faturamı ödeyemedim . Hattımı kesmişler . Ayıppp\n",
       "10698    Başka operatörden Turkcell’e geçirdim 6 hattımı ama Turkcell interneti çok kötü.tekrar dönmeyi sorguluyorum kendi kendime.aramalarımı Wi-Fi destek...\n",
       "10699    @TurkcellHizmet Turkcell kalitesi bu mu? 30dk müşteri yetkilisine dert anlattım,asssla çözüm sunmadı, yapacak bişey yok, kalma sözü vermişsiniz di...\n",
       "Name: Tweets, Length: 10700, dtype: object"
      ]
     },
     "execution_count": 353,
     "metadata": {},
     "output_type": "execute_result"
    }
   ],
   "source": [
    "turkcell_data['Tweets']"
   ]
  },
  {
   "cell_type": "code",
   "execution_count": 354,
   "metadata": {},
   "outputs": [],
   "source": [
    "#Remove the html strips\n",
    "def strip_html(text):\n",
    "    soup = BeautifulSoup(text, \"html.parser\")\n",
    "    return soup.get_text()\n",
    "#Removing the square brackets\n",
    "def remove_between_square_brackets(text):\n",
    "    return re.sub('\\[[^]]*\\]', '', text)\n",
    "#Removing the noisy text\n",
    "def denoise_text(text):\n",
    "    text = strip_html(text)\n",
    "    text = remove_between_square_brackets(text)\n",
    "    return text\n",
    "\n",
    "turkcell_data['Tweets'] = turkcell_data['Tweets'].apply(denoise_text)"
   ]
  },
  {
   "cell_type": "code",
   "execution_count": 355,
   "metadata": {},
   "outputs": [
    {
     "data": {
      "text/plain": [
       "0                                                                                                      Turkcell'in sahibi kim..Atarı kime acaba bu arkadaşın..\n",
       "1        Benim var dışardan gelene 50 lira yaptığınız tarife 17 yıllık müşteriniz olan bana 105 lira. Değiştireceğim az kaldo @vodafone @Turkcell hangisi d...\n",
       "2                                                                                               @TurkcellHizmet  acaba Turkcell bana da bi kalp gönderir mi ? \n",
       "3        Turkcell ceo dediki. Cezanın ayarını cezayı yazan arkadaşların kendi vicdanlarına bırakıyorum. Bizdeki 1 saat 15 dakikalık yoğunluk, kesinti değil...\n",
       "4        15 günlük @TurkTelekom meceramda anladımkı ucuz etin yahnisi olmazmış keşke  bizi hakkıyla öpen @Turkcell den ayrılmasaydım nasipse yarın saat 14....\n",
       "                                                                                 ...                                                                          \n",
       "10695                                                                 Turkcell kadar leşşi bi firma görmedim amk şu korona geçsin ayağımı atarsam adam değilim\n",
       "10696                       @TurkcellHizmet turkcel yökün hediye ettiği 6 gb vermemek için direniyor! Bu ne rezilliktir? @Turkcell  pic.twitter.com/mBUJY3EOyT\n",
       "10697               @Turkcell  25 yıllık Turkcell kesintisiniz faturalı abonesiyim. Coranadan dolayı ilk defa faturamı ödeyemedim . Hattımı kesmişler . Ayıppp\n",
       "10698    Başka operatörden Turkcell’e geçirdim 6 hattımı ama Turkcell interneti çok kötü.tekrar dönmeyi sorguluyorum kendi kendime.aramalarımı Wi-Fi destek...\n",
       "10699    @TurkcellHizmet Turkcell kalitesi bu mu? 30dk müşteri yetkilisine dert anlattım,asssla çözüm sunmadı, yapacak bişey yok, kalma sözü vermişsiniz di...\n",
       "Name: Tweets, Length: 10700, dtype: object"
      ]
     },
     "execution_count": 355,
     "metadata": {},
     "output_type": "execute_result"
    }
   ],
   "source": [
    "turkcell_data['Tweets']"
   ]
  },
  {
   "cell_type": "code",
   "execution_count": 356,
   "metadata": {},
   "outputs": [],
   "source": [
    "def stemWord(text):\n",
    "    return text.lower()\n",
    "\n",
    "#Remove usernames\n",
    "def removeUsernames(text):\n",
    "    return re.sub('@[^\\s]+', '', text)\n",
    "\n",
    "#Remove hashtags\n",
    "def removeHashtags(text):\n",
    "    return re.sub(r'#[^\\s]+', ' ', text)\n",
    "\n",
    "#Remove punctuation\n",
    "def removePunctuation(text):\n",
    "    return re.sub(r'[^\\w\\s]', ' ', text)\n",
    "\n",
    "#Remove single character\n",
    "def singleCharacterRemove(text):\n",
    "    return re.sub(r'(?:^| )\\w(?:$| )', ' ', text)\n",
    "                  \n",
    "#Remove emoji\n",
    "def stripEmoji(text):\n",
    "    emoji = re.compile('[\\U00010000-\\U0010ffff]', flags=re.UNICODE)\n",
    "    return emoji.sub(r'', text)\n",
    "\n",
    "def splitIntoStem(text):\n",
    "    text = stemWord(text)\n",
    "    text = removeUsernames(text)\n",
    "    text = removeHashtags(text)\n",
    "    text = removePunctuation(text)\n",
    "    text = singleCharacterRemove(text)\n",
    "    text = stripEmoji(text)\n",
    "    return text\n",
    "\n",
    "\n",
    "turkcell_data['Tweets'] = turkcell_data['Tweets'].apply(splitIntoStem)"
   ]
  },
  {
   "cell_type": "code",
   "execution_count": 357,
   "metadata": {},
   "outputs": [
    {
     "data": {
      "text/plain": [
       "0                                                                                                      turkcell in sahibi kim  atarı kime acaba bu arkadaşın  \n",
       "1                 benim var dışardan gelene 50 lira yaptığınız tarife 17 yıllık müşteriniz olan bana 105 lira  değiştireceğim az kaldo   hangisi daha uygunsa \n",
       "2                                                                                                                acaba turkcell bana da bi kalp gönderir mi   \n",
       "3        turkcell ceo dediki  cezanın ayarını cezayı yazan arkadaşların kendi vicdanlarına bırakıyorum  bizdeki saat 15 dakikalık yoğunluk  kesinti değil  ...\n",
       "4        15 günlük  meceramda anladımkı ucuz etin yahnisi olmazmış keşke  bizi hakkıyla öpen  den ayrılmasaydım nasipse yarın saat 14 26 suları itibari ile...\n",
       "                                                                                 ...                                                                          \n",
       "10695                                                                 turkcell kadar leşşi bi firma görmedim amk şu korona geçsin ayağımı atarsam adam değilim\n",
       "10696                                                  turkcel yökün hediye ettiği gb vermemek için direniyor  bu ne rezilliktir    pic twitter com mbujy3eoyt\n",
       "10697                          25 yıllık turkcell kesintisiniz faturalı abonesiyim  coranadan dolayı ilk defa faturamı ödeyemedim   hattımı kesmişler   ayıppp\n",
       "10698    başka operatörden turkcell geçirdim hattımı ama turkcell interneti çok kötü tekrar dönmeyi sorguluyorum kendi kendime aramalarımı wi fi destekli y...\n",
       "10699     turkcell kalitesi bu mu  30dk müşteri yetkilisine dert anlattım asssla çözüm sunmadı  yapacak bişey yok  kalma sözü vermişsiniz diyip durdu  utan...\n",
       "Name: Tweets, Length: 10700, dtype: object"
      ]
     },
     "execution_count": 357,
     "metadata": {},
     "output_type": "execute_result"
    }
   ],
   "source": [
    "turkcell_data['Tweets']"
   ]
  },
  {
   "cell_type": "code",
   "execution_count": 358,
   "metadata": {},
   "outputs": [],
   "source": [
    "# pic.twitter\n",
    "def picTwitter(text):\n",
    "    pic_pat = r'pic.[^ ]+'\n",
    "    text = re.sub(pic_pat, '', text)\n",
    "    return text\n",
    "    \n",
    "turkcell_data['Tweets'] = turkcell_data['Tweets'].apply(picTwitter)\n",
    "\n",
    "# pic.twitter devam\n",
    "def picTwitter2(text):\n",
    "    pic_pat2 = r'com.[^ ]+'\n",
    "    text = re.sub(pic_pat2, '', text)\n",
    "    return text\n",
    "\n",
    "turkcell_data['Tweets'] = turkcell_data['Tweets'].apply(picTwitter2)"
   ]
  },
  {
   "cell_type": "code",
   "execution_count": 359,
   "metadata": {},
   "outputs": [
    {
     "data": {
      "text/plain": [
       "0                                                                                                      turkcell in sahibi kim  atarı kime acaba bu arkadaşın  \n",
       "1                 benim var dışardan gelene 50 lira yaptığınız tarife 17 yıllık müşteriniz olan bana 105 lira  değiştireceğim az kaldo   hangisi daha uygunsa \n",
       "2                                                                                                                acaba turkcell bana da bi kalp gönderir mi   \n",
       "3        turkcell ceo dediki  cezanın ayarını cezayı yazan arkadaşların kendi vicdanlarına bırakıyorum  bizdeki saat 15 dakikalık yoğunluk  kesinti değil  ...\n",
       "4        15 günlük  meceramda anladımkı ucuz etin yahnisi olmazmış keşke  bizi hakkıyla öpen  den ayrılmasaydım nasipse yarın saat 14 26 suları itibari ile...\n",
       "                                                                                 ...                                                                          \n",
       "10695                                                                 turkcell kadar leşşi bi firma görmedim amk şu korona geçsin ayağımı atarsam adam değilim\n",
       "10696                                                                           turkcel yökün hediye ettiği gb vermemek için direniyor  bu ne rezilliktir     \n",
       "10697                          25 yıllık turkcell kesintisiniz faturalı abonesiyim  coranadan dolayı ilk defa faturamı ödeyemedim   hattımı kesmişler   ayıppp\n",
       "10698    başka operatörden turkcell geçirdim hattımı ama turkcell interneti çok kötü tekrar dönmeyi sorguluyorum kendi kendime aramalarımı wi fi destekli y...\n",
       "10699     turkcell kalitesi bu mu  30dk müşteri yetkilisine dert anlattım asssla çözüm sunmadı  yapacak bişey yok  kalma sözü vermişsiniz diyip durdu  utan...\n",
       "Name: Tweets, Length: 10700, dtype: object"
      ]
     },
     "execution_count": 359,
     "metadata": {},
     "output_type": "execute_result"
    }
   ],
   "source": [
    "turkcell_data['Tweets']"
   ]
  },
  {
   "cell_type": "code",
   "execution_count": 360,
   "metadata": {},
   "outputs": [
    {
     "data": {
      "text/html": [
       "<div>\n",
       "<style scoped>\n",
       "    .dataframe tbody tr th:only-of-type {\n",
       "        vertical-align: middle;\n",
       "    }\n",
       "\n",
       "    .dataframe tbody tr th {\n",
       "        vertical-align: top;\n",
       "    }\n",
       "\n",
       "    .dataframe thead th {\n",
       "        text-align: right;\n",
       "    }\n",
       "</style>\n",
       "<table border=\"1\" class=\"dataframe\">\n",
       "  <thead>\n",
       "    <tr style=\"text-align: right;\">\n",
       "      <th></th>\n",
       "      <th>Tweets</th>\n",
       "      <th>Sentiment</th>\n",
       "      <th>TextSize</th>\n",
       "    </tr>\n",
       "  </thead>\n",
       "  <tbody>\n",
       "    <tr>\n",
       "      <th>0</th>\n",
       "      <td>turkcell in sahibi kim  atarı kime acaba bu arkadaşın</td>\n",
       "      <td>Positive</td>\n",
       "      <td>55</td>\n",
       "    </tr>\n",
       "    <tr>\n",
       "      <th>1</th>\n",
       "      <td>benim var dışardan gelene 50 lira yaptığınız tarife 17 yıllık müşteriniz olan bana 105 lira  değiştireceğim az kaldo   hangisi daha uygunsa</td>\n",
       "      <td>Positive</td>\n",
       "      <td>158</td>\n",
       "    </tr>\n",
       "    <tr>\n",
       "      <th>2</th>\n",
       "      <td>acaba turkcell bana da bi kalp gönderir mi</td>\n",
       "      <td>Positive</td>\n",
       "      <td>62</td>\n",
       "    </tr>\n",
       "    <tr>\n",
       "      <th>3</th>\n",
       "      <td>turkcell ceo dediki  cezanın ayarını cezayı yazan arkadaşların kendi vicdanlarına bırakıyorum  bizdeki saat 15 dakikalık yoğunluk  kesinti değil  ...</td>\n",
       "      <td>Positive</td>\n",
       "      <td>258</td>\n",
       "    </tr>\n",
       "    <tr>\n",
       "      <th>4</th>\n",
       "      <td>15 günlük  meceramda anladımkı ucuz etin yahnisi olmazmış keşke  bizi hakkıyla öpen  den ayrılmasaydım nasipse yarın saat 14 26 suları itibari ile...</td>\n",
       "      <td>Positive</td>\n",
       "      <td>225</td>\n",
       "    </tr>\n",
       "  </tbody>\n",
       "</table>\n",
       "</div>"
      ],
      "text/plain": [
       "                                                                                                                                                  Tweets  \\\n",
       "0                                                                                                turkcell in sahibi kim  atarı kime acaba bu arkadaşın     \n",
       "1           benim var dışardan gelene 50 lira yaptığınız tarife 17 yıllık müşteriniz olan bana 105 lira  değiştireceğim az kaldo   hangisi daha uygunsa    \n",
       "2                                                                                                          acaba turkcell bana da bi kalp gönderir mi      \n",
       "3  turkcell ceo dediki  cezanın ayarını cezayı yazan arkadaşların kendi vicdanlarına bırakıyorum  bizdeki saat 15 dakikalık yoğunluk  kesinti değil  ...   \n",
       "4  15 günlük  meceramda anladımkı ucuz etin yahnisi olmazmış keşke  bizi hakkıyla öpen  den ayrılmasaydım nasipse yarın saat 14 26 suları itibari ile...   \n",
       "\n",
       "  Sentiment  TextSize  \n",
       "0  Positive        55  \n",
       "1  Positive       158  \n",
       "2  Positive        62  \n",
       "3  Positive       258  \n",
       "4  Positive       225  "
      ]
     },
     "execution_count": 360,
     "metadata": {},
     "output_type": "execute_result"
    }
   ],
   "source": [
    "turkcell_data.head()"
   ]
  },
  {
   "cell_type": "code",
   "execution_count": 361,
   "metadata": {},
   "outputs": [
    {
     "data": {
      "text/plain": [
       "\"from nltk.tokenize import word_tokenize\\nfrom nltk.tokenize import WordPunctTokenizer\\n\\ndef remove_stop(text, is_lower_case = True):\\n    tokens = WordPunctTokenizer(text)\\n    tokens = [token.strip() for token in tokens]\\n    if is_lower_case:\\n        filtered_tokens = [token for token in tokens if token not in stopword_list]\\n    else:\\n        filtered_tokens = [token for token in tokens if token.lower() not in stopword_list]\\n    filtered_text = ' '.join(filtered_tokens)    \\n    return filtered_text\\n\\n#Apply function on review column\\nturkcell_data['Tweets'] = turkcell_data['Tweets'].apply(remove_stopwords)\""
      ]
     },
     "execution_count": 361,
     "metadata": {},
     "output_type": "execute_result"
    }
   ],
   "source": [
    "'''from nltk.tokenize import word_tokenize\n",
    "from nltk.tokenize import WordPunctTokenizer\n",
    "\n",
    "def remove_stop(text, is_lower_case = True):\n",
    "    tokens = WordPunctTokenizer(text)\n",
    "    tokens = [token.strip() for token in tokens]\n",
    "    if is_lower_case:\n",
    "        filtered_tokens = [token for token in tokens if token not in stopword_list]\n",
    "    else:\n",
    "        filtered_tokens = [token for token in tokens if token.lower() not in stopword_list]\n",
    "    filtered_text = ' '.join(filtered_tokens)    \n",
    "    return filtered_text\n",
    "\n",
    "#Apply function on review column\n",
    "turkcell_data['Tweets'] = turkcell_data['Tweets'].apply(remove_stopwords)'''"
   ]
  },
  {
   "cell_type": "code",
   "execution_count": 362,
   "metadata": {},
   "outputs": [],
   "source": [
    "#turkcell_data.head()"
   ]
  },
  {
   "cell_type": "markdown",
   "metadata": {},
   "source": [
    "# Removing StopWords"
   ]
  },
  {
   "cell_type": "code",
   "execution_count": 363,
   "metadata": {},
   "outputs": [],
   "source": [
    "#set stopwords to turkish\n",
    "stop = set(stopword_list)\n",
    "\n",
    "#removing the stopwords\n",
    "def remove_stopwords(text, is_lower_case=True):\n",
    "    tokens = tokenizer.tokenize(text)\n",
    "    tokens = [token.strip() for token in tokens]\n",
    "    if is_lower_case:\n",
    "        filtered_tokens = [token for token in tokens if token not in stopword_list]\n",
    "    else:\n",
    "        filtered_tokens = [token for token in tokens if token.lower() not in stopword_list]\n",
    "    filtered_text = ' '.join(filtered_tokens)    \n",
    "    return filtered_text\n",
    "\n",
    "#Apply function on review column\n",
    "turkcell_data['Tweets'] = turkcell_data['Tweets'].apply(remove_stopwords)"
   ]
  },
  {
   "cell_type": "code",
   "execution_count": 364,
   "metadata": {},
   "outputs": [
    {
     "data": {
      "text/html": [
       "<div>\n",
       "<style scoped>\n",
       "    .dataframe tbody tr th:only-of-type {\n",
       "        vertical-align: middle;\n",
       "    }\n",
       "\n",
       "    .dataframe tbody tr th {\n",
       "        vertical-align: top;\n",
       "    }\n",
       "\n",
       "    .dataframe thead th {\n",
       "        text-align: right;\n",
       "    }\n",
       "</style>\n",
       "<table border=\"1\" class=\"dataframe\">\n",
       "  <thead>\n",
       "    <tr style=\"text-align: right;\">\n",
       "      <th></th>\n",
       "      <th>Tweets</th>\n",
       "      <th>Sentiment</th>\n",
       "      <th>TextSize</th>\n",
       "    </tr>\n",
       "  </thead>\n",
       "  <tbody>\n",
       "    <tr>\n",
       "      <th>0</th>\n",
       "      <td>turkcell in sahibi atarı arkadaşın</td>\n",
       "      <td>Positive</td>\n",
       "      <td>55</td>\n",
       "    </tr>\n",
       "    <tr>\n",
       "      <th>1</th>\n",
       "      <td>dışardan gelene 50 lira yaptığınız tarife 17 yıllık müşteriniz 105 lira değiştireceğim kaldo uygunsa</td>\n",
       "      <td>Positive</td>\n",
       "      <td>158</td>\n",
       "    </tr>\n",
       "    <tr>\n",
       "      <th>2</th>\n",
       "      <td>turkcell bi kalp gönderir</td>\n",
       "      <td>Positive</td>\n",
       "      <td>62</td>\n",
       "    </tr>\n",
       "    <tr>\n",
       "      <th>3</th>\n",
       "      <td>turkcell ceo dediki cezanın ayarını cezayı yazan arkadaşların vicdanlarına bırakıyorum bizdeki saat 15 dakikalık yoğunluk kesinti değil yoğunluk k...</td>\n",
       "      <td>Positive</td>\n",
       "      <td>258</td>\n",
       "    </tr>\n",
       "    <tr>\n",
       "      <th>4</th>\n",
       "      <td>15 günlük meceramda anladımkı ucuz etin yahnisi olmazmış keşke hakkıyla öpen den ayrılmasaydım nasipse yarın saat 14 26 suları itibari bıraktığımı...</td>\n",
       "      <td>Positive</td>\n",
       "      <td>225</td>\n",
       "    </tr>\n",
       "  </tbody>\n",
       "</table>\n",
       "</div>"
      ],
      "text/plain": [
       "                                                                                                                                                  Tweets  \\\n",
       "0                                                                                                                     turkcell in sahibi atarı arkadaşın   \n",
       "1                                                   dışardan gelene 50 lira yaptığınız tarife 17 yıllık müşteriniz 105 lira değiştireceğim kaldo uygunsa   \n",
       "2                                                                                                                              turkcell bi kalp gönderir   \n",
       "3  turkcell ceo dediki cezanın ayarını cezayı yazan arkadaşların vicdanlarına bırakıyorum bizdeki saat 15 dakikalık yoğunluk kesinti değil yoğunluk k...   \n",
       "4  15 günlük meceramda anladımkı ucuz etin yahnisi olmazmış keşke hakkıyla öpen den ayrılmasaydım nasipse yarın saat 14 26 suları itibari bıraktığımı...   \n",
       "\n",
       "  Sentiment  TextSize  \n",
       "0  Positive        55  \n",
       "1  Positive       158  \n",
       "2  Positive        62  \n",
       "3  Positive       258  \n",
       "4  Positive       225  "
      ]
     },
     "execution_count": 364,
     "metadata": {},
     "output_type": "execute_result"
    }
   ],
   "source": [
    "turkcell_data.head()"
   ]
  },
  {
   "cell_type": "markdown",
   "metadata": {},
   "source": [
    "# Text Stemming"
   ]
  },
  {
   "cell_type": "code",
   "execution_count": 365,
   "metadata": {},
   "outputs": [],
   "source": [
    "from snowballstemmer import TurkishStemmer\n",
    "turkStem = TurkishStemmer()\n",
    "\n",
    "#Stemming the text\n",
    "def simple_stemmer(text):\n",
    "    ss = TurkishStemmer()\n",
    "    text= ' '.join([ss.stemWord(word) for word in text.split()])\n",
    "    return text\n",
    "\n",
    "#Apply function on review column\n",
    "turkcell_data['Tweets'] = turkcell_data['Tweets'].apply(simple_stemmer)"
   ]
  },
  {
   "cell_type": "code",
   "execution_count": 366,
   "metadata": {},
   "outputs": [
    {
     "data": {
      "text/html": [
       "<div>\n",
       "<style scoped>\n",
       "    .dataframe tbody tr th:only-of-type {\n",
       "        vertical-align: middle;\n",
       "    }\n",
       "\n",
       "    .dataframe tbody tr th {\n",
       "        vertical-align: top;\n",
       "    }\n",
       "\n",
       "    .dataframe thead th {\n",
       "        text-align: right;\n",
       "    }\n",
       "</style>\n",
       "<table border=\"1\" class=\"dataframe\">\n",
       "  <thead>\n",
       "    <tr style=\"text-align: right;\">\n",
       "      <th></th>\n",
       "      <th>Tweets</th>\n",
       "      <th>Sentiment</th>\n",
       "      <th>TextSize</th>\n",
       "      <th>NewTextSize</th>\n",
       "    </tr>\n",
       "  </thead>\n",
       "  <tbody>\n",
       "    <tr>\n",
       "      <th>0</th>\n",
       "      <td>turkcell in sahip atar arkadaş</td>\n",
       "      <td>Positive</td>\n",
       "      <td>55</td>\n",
       "      <td>30</td>\n",
       "    </tr>\n",
       "    <tr>\n",
       "      <th>1</th>\n",
       "      <td>dışar gele 50 lira yaptık tarif 17 yıllık müşter 105 lira değiştirecek kaldo uygu</td>\n",
       "      <td>Positive</td>\n",
       "      <td>158</td>\n",
       "      <td>81</td>\n",
       "    </tr>\n",
       "    <tr>\n",
       "      <th>2</th>\n",
       "      <td>turkcell bi kalp gönderir</td>\n",
       "      <td>Positive</td>\n",
       "      <td>62</td>\n",
       "      <td>25</td>\n",
       "    </tr>\n",
       "    <tr>\n",
       "      <th>3</th>\n",
       "      <td>turkcell ceo dedik ceza ayar ceza yaza arkadaş vicdan bırakıyor biz saat 15 dakikalık yoğunluk kes değil yoğunluk karşı 27 saat kes el vicdan koy ...</td>\n",
       "      <td>Positive</td>\n",
       "      <td>258</td>\n",
       "      <td>167</td>\n",
       "    </tr>\n",
       "    <tr>\n",
       "      <th>4</th>\n",
       "      <td>15 günlük mecera anladımkı uç et yahnis olmaz keşke hakkı öpe den ayrılmas nasip yar saat 14 26 su itibar bıraktık yer deva edicez iyik var</td>\n",
       "      <td>Positive</td>\n",
       "      <td>225</td>\n",
       "      <td>139</td>\n",
       "    </tr>\n",
       "    <tr>\n",
       "      <th>...</th>\n",
       "      <td>...</td>\n",
       "      <td>...</td>\n",
       "      <td>...</td>\n",
       "      <td>...</td>\n",
       "    </tr>\n",
       "    <tr>\n",
       "      <th>10695</th>\n",
       "      <td>turkcell leşşi bi firma görmedi amk koro geç ayak atar ada değil</td>\n",
       "      <td>Negative</td>\n",
       "      <td>88</td>\n",
       "      <td>64</td>\n",
       "    </tr>\n",
       "    <tr>\n",
       "      <th>10696</th>\n",
       "      <td>turkcel yök hedi gb vermemek direniyor rezillik</td>\n",
       "      <td>Negative</td>\n",
       "      <td>130</td>\n",
       "      <td>47</td>\n",
       "    </tr>\n",
       "    <tr>\n",
       "      <th>10697</th>\n",
       "      <td>25 yıllık turkcell kesinti fatural abones corana ilk fatura ödeyemedi hatt kes ayıppp</td>\n",
       "      <td>Negative</td>\n",
       "      <td>138</td>\n",
       "      <td>85</td>\n",
       "    </tr>\n",
       "    <tr>\n",
       "      <th>10698</th>\n",
       "      <td>başka operatör turkcell geçir hatt turkcell internet köt tekrar dönme sorguluyor kendi arama wi fi destekli yapıyor çek güç konu yardı olacak mı e...</td>\n",
       "      <td>Negative</td>\n",
       "      <td>272</td>\n",
       "      <td>194</td>\n",
       "    </tr>\n",
       "    <tr>\n",
       "      <th>10699</th>\n",
       "      <td>turkcell kalites 30dk müşter yetkili dert anlat asssla çöz sunmadı bişey yok kalma söz ver diyip dur utanmazlik böyles hizmet almay par ödey diyo</td>\n",
       "      <td>Negative</td>\n",
       "      <td>279</td>\n",
       "      <td>145</td>\n",
       "    </tr>\n",
       "  </tbody>\n",
       "</table>\n",
       "<p>10700 rows × 4 columns</p>\n",
       "</div>"
      ],
      "text/plain": [
       "                                                                                                                                                      Tweets  \\\n",
       "0                                                                                                                             turkcell in sahip atar arkadaş   \n",
       "1                                                                          dışar gele 50 lira yaptık tarif 17 yıllık müşter 105 lira değiştirecek kaldo uygu   \n",
       "2                                                                                                                                  turkcell bi kalp gönderir   \n",
       "3      turkcell ceo dedik ceza ayar ceza yaza arkadaş vicdan bırakıyor biz saat 15 dakikalık yoğunluk kes değil yoğunluk karşı 27 saat kes el vicdan koy ...   \n",
       "4                15 günlük mecera anladımkı uç et yahnis olmaz keşke hakkı öpe den ayrılmas nasip yar saat 14 26 su itibar bıraktık yer deva edicez iyik var   \n",
       "...                                                                                                                                                      ...   \n",
       "10695                                                                                       turkcell leşşi bi firma görmedi amk koro geç ayak atar ada değil   \n",
       "10696                                                                                                        turkcel yök hedi gb vermemek direniyor rezillik   \n",
       "10697                                                                  25 yıllık turkcell kesinti fatural abones corana ilk fatura ödeyemedi hatt kes ayıppp   \n",
       "10698  başka operatör turkcell geçir hatt turkcell internet köt tekrar dönme sorguluyor kendi arama wi fi destekli yapıyor çek güç konu yardı olacak mı e...   \n",
       "10699      turkcell kalites 30dk müşter yetkili dert anlat asssla çöz sunmadı bişey yok kalma söz ver diyip dur utanmazlik böyles hizmet almay par ödey diyo   \n",
       "\n",
       "      Sentiment  TextSize  NewTextSize  \n",
       "0      Positive        55           30  \n",
       "1      Positive       158           81  \n",
       "2      Positive        62           25  \n",
       "3      Positive       258          167  \n",
       "4      Positive       225          139  \n",
       "...         ...       ...          ...  \n",
       "10695  Negative        88           64  \n",
       "10696  Negative       130           47  \n",
       "10697  Negative       138           85  \n",
       "10698  Negative       272          194  \n",
       "10699  Negative       279          145  \n",
       "\n",
       "[10700 rows x 4 columns]"
      ]
     },
     "execution_count": 366,
     "metadata": {},
     "output_type": "execute_result"
    }
   ],
   "source": [
    "turkcell_data['NewTextSize'] = [len(t) for t in turkcell_data.Tweets]\n",
    "turkcell_data"
   ]
  },
  {
   "cell_type": "markdown",
   "metadata": {},
   "source": [
    "# Labeling the sentiment text"
   ]
  },
  {
   "cell_type": "code",
   "execution_count": 367,
   "metadata": {},
   "outputs": [
    {
     "data": {
      "text/html": [
       "<div>\n",
       "<style scoped>\n",
       "    .dataframe tbody tr th:only-of-type {\n",
       "        vertical-align: middle;\n",
       "    }\n",
       "\n",
       "    .dataframe tbody tr th {\n",
       "        vertical-align: top;\n",
       "    }\n",
       "\n",
       "    .dataframe thead th {\n",
       "        text-align: right;\n",
       "    }\n",
       "</style>\n",
       "<table border=\"1\" class=\"dataframe\">\n",
       "  <thead>\n",
       "    <tr style=\"text-align: right;\">\n",
       "      <th></th>\n",
       "      <th>Tweets</th>\n",
       "      <th>Sentiment</th>\n",
       "      <th>TextSize</th>\n",
       "      <th>NewTextSize</th>\n",
       "    </tr>\n",
       "  </thead>\n",
       "  <tbody>\n",
       "    <tr>\n",
       "      <th>0</th>\n",
       "      <td>turkcell in sahip atar arkadaş</td>\n",
       "      <td>1</td>\n",
       "      <td>55</td>\n",
       "      <td>30</td>\n",
       "    </tr>\n",
       "    <tr>\n",
       "      <th>1</th>\n",
       "      <td>dışar gele 50 lira yaptık tarif 17 yıllık müşter 105 lira değiştirecek kaldo uygu</td>\n",
       "      <td>1</td>\n",
       "      <td>158</td>\n",
       "      <td>81</td>\n",
       "    </tr>\n",
       "    <tr>\n",
       "      <th>2</th>\n",
       "      <td>turkcell bi kalp gönderir</td>\n",
       "      <td>1</td>\n",
       "      <td>62</td>\n",
       "      <td>25</td>\n",
       "    </tr>\n",
       "    <tr>\n",
       "      <th>3</th>\n",
       "      <td>turkcell ceo dedik ceza ayar ceza yaza arkadaş vicdan bırakıyor biz saat 15 dakikalık yoğunluk kes değil yoğunluk karşı 27 saat kes el vicdan koy ...</td>\n",
       "      <td>1</td>\n",
       "      <td>258</td>\n",
       "      <td>167</td>\n",
       "    </tr>\n",
       "    <tr>\n",
       "      <th>4</th>\n",
       "      <td>15 günlük mecera anladımkı uç et yahnis olmaz keşke hakkı öpe den ayrılmas nasip yar saat 14 26 su itibar bıraktık yer deva edicez iyik var</td>\n",
       "      <td>1</td>\n",
       "      <td>225</td>\n",
       "      <td>139</td>\n",
       "    </tr>\n",
       "  </tbody>\n",
       "</table>\n",
       "</div>"
      ],
      "text/plain": [
       "                                                                                                                                                  Tweets  \\\n",
       "0                                                                                                                         turkcell in sahip atar arkadaş   \n",
       "1                                                                      dışar gele 50 lira yaptık tarif 17 yıllık müşter 105 lira değiştirecek kaldo uygu   \n",
       "2                                                                                                                              turkcell bi kalp gönderir   \n",
       "3  turkcell ceo dedik ceza ayar ceza yaza arkadaş vicdan bırakıyor biz saat 15 dakikalık yoğunluk kes değil yoğunluk karşı 27 saat kes el vicdan koy ...   \n",
       "4            15 günlük mecera anladımkı uç et yahnis olmaz keşke hakkı öpe den ayrılmas nasip yar saat 14 26 su itibar bıraktık yer deva edicez iyik var   \n",
       "\n",
       "   Sentiment  TextSize  NewTextSize  \n",
       "0          1        55           30  \n",
       "1          1       158           81  \n",
       "2          1        62           25  \n",
       "3          1       258          167  \n",
       "4          1       225          139  "
      ]
     },
     "execution_count": 367,
     "metadata": {},
     "output_type": "execute_result"
    }
   ],
   "source": [
    "turkcell_data.Sentiment.replace(['Negative', 'Positive'], [0, 1], inplace = True)\n",
    "turkcell_data.head()"
   ]
  },
  {
   "cell_type": "markdown",
   "metadata": {},
   "source": [
    "# Train and Test"
   ]
  },
  {
   "cell_type": "code",
   "execution_count": 368,
   "metadata": {},
   "outputs": [],
   "source": [
    "from sklearn.model_selection import train_test_split #from sklearn.cross_validation import train_test_split to split the data into training and tesing set\n",
    "\n",
    "\n",
    "sent = turkcell_data['Sentiment']\n",
    "tw = turkcell_data['Tweets']\n",
    "\n",
    "X_train, X_test, y_train, y_test = train_test_split(tw, sent, test_size = 0.20, random_state= 1) # split the data into traing and testing set where ratio is 80:20\n",
    "\n",
    "\n",
    "# X_train is the tweets of training data, X_test is the testing tweets which we have to predict, y_train is the sentiments of tweets in the traing data and y_test is the sentiments of the tweets  which we will use to measure the accuracy of the model"
   ]
  },
  {
   "cell_type": "markdown",
   "metadata": {},
   "source": [
    "# Bag of Words"
   ]
  },
  {
   "cell_type": "code",
   "execution_count": 369,
   "metadata": {},
   "outputs": [
    {
     "name": "stdout",
     "output_type": "stream",
     "text": [
      "BOW_cv_train: (8560, 170489)\n",
      "BOW_cv_test: (2140, 170489)\n"
     ]
    }
   ],
   "source": [
    "from sklearn.feature_extraction.text import CountVectorizer\n",
    "\n",
    "#Count vectorizer for bag of words\n",
    "cv=CountVectorizer(min_df=0,max_df=1,binary=False,ngram_range=(1,3))\n",
    "\n",
    "#transformed train reviews\n",
    "cv_train_tweets=cv.fit_transform(X_train)\n",
    "\n",
    "#transformed test reviews\n",
    "cv_test_tweets=cv.transform(X_test)\n",
    "\n",
    "print('BOW_cv_train:',cv_train_tweets.shape)\n",
    "print('BOW_cv_test:',cv_test_tweets.shape)\n",
    "#vocab=cv.get_feature_names()-toget feature names"
   ]
  },
  {
   "cell_type": "code",
   "execution_count": 370,
   "metadata": {},
   "outputs": [
    {
     "name": "stdout",
     "output_type": "stream",
     "text": [
      "  (0, 128523)\t1\n",
      "  (0, 110028)\t1\n",
      "  (0, 48828)\t1\n",
      "  (0, 80389)\t1\n",
      "  (0, 81674)\t1\n",
      "  (0, 15311)\t1\n",
      "  (0, 128524)\t1\n",
      "  (0, 123281)\t1\n",
      "  (0, 110029)\t1\n",
      "  (0, 5945)\t1\n",
      "  (0, 78212)\t1\n",
      "  (0, 48829)\t1\n",
      "  (0, 80390)\t1\n",
      "  (0, 81675)\t1\n",
      "  (0, 98761)\t1\n"
     ]
    }
   ],
   "source": [
    "s = cv_train_tweets[1]\n",
    "print(s)"
   ]
  },
  {
   "cell_type": "code",
   "execution_count": 371,
   "metadata": {},
   "outputs": [
    {
     "name": "stdout",
     "output_type": "stream",
     "text": [
      "  (0, 56274)\t1\n",
      "  (0, 70185)\t1\n",
      "  (0, 126527)\t1\n",
      "  (0, 126528)\t1\n"
     ]
    }
   ],
   "source": [
    "ss = cv_test_tweets[1]\n",
    "print(ss)"
   ]
  },
  {
   "cell_type": "markdown",
   "metadata": {},
   "source": [
    "# Term Frequency-Inverse Document Frequency model (TFIDF)"
   ]
  },
  {
   "cell_type": "code",
   "execution_count": 372,
   "metadata": {},
   "outputs": [
    {
     "name": "stdout",
     "output_type": "stream",
     "text": [
      "Tfidf_train: (8560, 170489)\n",
      "Tfidf_test: (2140, 170489)\n"
     ]
    }
   ],
   "source": [
    "from sklearn.feature_extraction.text import TfidfVectorizer\n",
    "\n",
    "#Tfidf vectorizer\n",
    "tv=TfidfVectorizer(min_df=0,max_df=1,use_idf=True,ngram_range=(1,3))\n",
    "#transformed train reviews\n",
    "tv_train_tweets = tv.fit_transform(X_train)\n",
    "#transformed test reviews\n",
    "tv_test_tweets = tv.transform(X_test)\n",
    "print('Tfidf_train:',tv_train_tweets.shape)\n",
    "print('Tfidf_test:',tv_test_tweets.shape)"
   ]
  },
  {
   "cell_type": "code",
   "execution_count": 373,
   "metadata": {},
   "outputs": [
    {
     "name": "stdout",
     "output_type": "stream",
     "text": [
      "  (0, 98761)\t0.2581988897471611\n",
      "  (0, 81675)\t0.2581988897471611\n",
      "  (0, 80390)\t0.2581988897471611\n",
      "  (0, 48829)\t0.2581988897471611\n",
      "  (0, 78212)\t0.2581988897471611\n",
      "  (0, 5945)\t0.2581988897471611\n",
      "  (0, 110029)\t0.2581988897471611\n",
      "  (0, 123281)\t0.2581988897471611\n",
      "  (0, 128524)\t0.2581988897471611\n",
      "  (0, 15311)\t0.2581988897471611\n",
      "  (0, 81674)\t0.2581988897471611\n",
      "  (0, 80389)\t0.2581988897471611\n",
      "  (0, 48828)\t0.2581988897471611\n",
      "  (0, 110028)\t0.2581988897471611\n",
      "  (0, 128523)\t0.2581988897471611\n"
     ]
    }
   ],
   "source": [
    "s = tv_train_tweets[1]\n",
    "print(s)"
   ]
  },
  {
   "cell_type": "code",
   "execution_count": 374,
   "metadata": {},
   "outputs": [
    {
     "name": "stdout",
     "output_type": "stream",
     "text": [
      "  (0, 126528)\t0.5\n",
      "  (0, 126527)\t0.5\n",
      "  (0, 70185)\t0.5\n",
      "  (0, 56274)\t0.5\n"
     ]
    }
   ],
   "source": [
    "ss = tv_test_tweets[1]\n",
    "print(ss)"
   ]
  },
  {
   "cell_type": "markdown",
   "metadata": {},
   "source": [
    "# Modelling the Dataset"
   ]
  },
  {
   "cell_type": "code",
   "execution_count": 375,
   "metadata": {},
   "outputs": [
    {
     "name": "stdout",
     "output_type": "stream",
     "text": [
      "LogisticRegression(C=1.1, class_weight=None, dual=False, fit_intercept=True,\n",
      "                   intercept_scaling=1, l1_ratio=None, max_iter=500,\n",
      "                   multi_class='auto', n_jobs=None, penalty='l2',\n",
      "                   random_state=42, solver='lbfgs', tol=0.0001, verbose=0,\n",
      "                   warm_start=False)\n",
      "LogisticRegression(C=1.1, class_weight=None, dual=False, fit_intercept=True,\n",
      "                   intercept_scaling=1, l1_ratio=None, max_iter=500,\n",
      "                   multi_class='auto', n_jobs=None, penalty='l2',\n",
      "                   random_state=42, solver='lbfgs', tol=0.0001, verbose=0,\n",
      "                   warm_start=False)\n"
     ]
    }
   ],
   "source": [
    "from sklearn.linear_model import LogisticRegression,SGDClassifier\n",
    "\n",
    "#training the model\n",
    "lr=LogisticRegression(penalty='l2',max_iter=500,C=1.1,random_state=42)\n",
    "\n",
    "#Fitting the model for Bag of words\n",
    "lr_bow=lr.fit(cv_train_tweets,y_train)\n",
    "print(lr_bow)\n",
    "\n",
    "#Fitting the model for tfidf features\n",
    "lr_tfidf=lr.fit(tv_train_tweets,y_train)\n",
    "print(lr_tfidf)"
   ]
  },
  {
   "cell_type": "markdown",
   "metadata": {},
   "source": [
    "## Logistic regression model performane on test dataset"
   ]
  },
  {
   "cell_type": "code",
   "execution_count": 381,
   "metadata": {},
   "outputs": [
    {
     "name": "stdout",
     "output_type": "stream",
     "text": [
      "[1 1 0 ... 1 1 1]\n",
      "[1 1 0 ... 1 1 1]\n"
     ]
    }
   ],
   "source": [
    "#Predicting the model for bag of words\n",
    "lr_bow_predict=lr.predict(cv_test_tweets)\n",
    "print(lr_bow_predict)\n",
    "\n",
    "##Predicting the model for tfidf features\n",
    "lr_tfidf_predict=lr.predict(tv_test_tweets)\n",
    "print(lr_tfidf_predict)"
   ]
  },
  {
   "cell_type": "markdown",
   "metadata": {},
   "source": [
    "## Accuracy of the model"
   ]
  },
  {
   "cell_type": "code",
   "execution_count": 382,
   "metadata": {},
   "outputs": [
    {
     "name": "stdout",
     "output_type": "stream",
     "text": [
      "lr_bow_score : 0.6327102803738318\n",
      "lr_tfidf_score : 0.6135514018691589\n"
     ]
    }
   ],
   "source": [
    "from sklearn.metrics import classification_report,confusion_matrix,accuracy_score\n",
    "\n",
    "#Accuracy score for bag of words\n",
    "lr_bow_score=accuracy_score(y_test,lr_bow_predict)\n",
    "print(\"lr_bow_score :\",lr_bow_score)\n",
    "\n",
    "#Accuracy score for tfidf features\n",
    "lr_tfidf_score=accuracy_score(y_test,lr_tfidf_predict)\n",
    "print(\"lr_tfidf_score :\",lr_tfidf_score)"
   ]
  },
  {
   "cell_type": "markdown",
   "metadata": {},
   "source": [
    "## Print the classification report"
   ]
  },
  {
   "cell_type": "code",
   "execution_count": 384,
   "metadata": {},
   "outputs": [
    {
     "name": "stdout",
     "output_type": "stream",
     "text": [
      "              precision    recall  f1-score   support\n",
      "\n",
      "    Positive       0.71      0.42      0.53      1053\n",
      "    Negative       0.60      0.84      0.70      1087\n",
      "\n",
      "    accuracy                           0.63      2140\n",
      "   macro avg       0.66      0.63      0.61      2140\n",
      "weighted avg       0.66      0.63      0.62      2140\n",
      "\n",
      "              precision    recall  f1-score   support\n",
      "\n",
      "    Positive       0.71      0.36      0.48      1053\n",
      "    Negative       0.58      0.85      0.69      1087\n",
      "\n",
      "    accuracy                           0.61      2140\n",
      "   macro avg       0.64      0.61      0.59      2140\n",
      "weighted avg       0.64      0.61      0.59      2140\n",
      "\n"
     ]
    }
   ],
   "source": [
    "#Classification report for bag of words \n",
    "lr_bow_report=classification_report(y_test,lr_bow_predict,target_names=['Positive','Negative'])\n",
    "print(lr_bow_report)\n",
    "\n",
    "#Classification report for tfidf features\n",
    "lr_tfidf_report=classification_report(y_test,lr_tfidf_predict,target_names=['Positive','Negative'])\n",
    "print(lr_tfidf_report)"
   ]
  },
  {
   "cell_type": "markdown",
   "metadata": {},
   "source": [
    "## Confusion matrix"
   ]
  },
  {
   "cell_type": "code",
   "execution_count": 385,
   "metadata": {},
   "outputs": [
    {
     "name": "stdout",
     "output_type": "stream",
     "text": [
      "[[908 179]\n",
      " [607 446]]\n",
      "[[929 158]\n",
      " [669 384]]\n"
     ]
    }
   ],
   "source": [
    "#confusion matrix for bag of words\n",
    "cm_bow=confusion_matrix(y_test,lr_bow_predict,labels=[1,0])\n",
    "print(cm_bow)\n",
    "\n",
    "#confusion matrix for tfidf features\n",
    "cm_tfidf=confusion_matrix(y_test,lr_tfidf_predict,labels=[1,0])\n",
    "print(cm_tfidf)"
   ]
  },
  {
   "cell_type": "markdown",
   "metadata": {},
   "source": [
    "## SGDClassifier"
   ]
  },
  {
   "cell_type": "code",
   "execution_count": 386,
   "metadata": {},
   "outputs": [
    {
     "name": "stdout",
     "output_type": "stream",
     "text": [
      "SGDClassifier(alpha=0.0001, average=False, class_weight=None,\n",
      "              early_stopping=False, epsilon=0.1, eta0=0.0, fit_intercept=True,\n",
      "              l1_ratio=0.15, learning_rate='optimal', loss='hinge',\n",
      "              max_iter=500, n_iter_no_change=5, n_jobs=None, penalty='l2',\n",
      "              power_t=0.5, random_state=42, shuffle=True, tol=0.001,\n",
      "              validation_fraction=0.1, verbose=0, warm_start=False)\n",
      "SGDClassifier(alpha=0.0001, average=False, class_weight=None,\n",
      "              early_stopping=False, epsilon=0.1, eta0=0.0, fit_intercept=True,\n",
      "              l1_ratio=0.15, learning_rate='optimal', loss='hinge',\n",
      "              max_iter=500, n_iter_no_change=5, n_jobs=None, penalty='l2',\n",
      "              power_t=0.5, random_state=42, shuffle=True, tol=0.001,\n",
      "              validation_fraction=0.1, verbose=0, warm_start=False)\n"
     ]
    }
   ],
   "source": [
    "#training the linear svm\n",
    "svm = SGDClassifier(loss='hinge',max_iter=500,random_state=42)\n",
    "\n",
    "#fitting the svm for bag of words\n",
    "svm_bow = svm.fit(cv_train_tweets,y_train)\n",
    "print(svm_bow)\n",
    "\n",
    "#fitting the svm for tfidf features\n",
    "svm_tfidf = svm.fit(tv_train_tweets,y_train)\n",
    "print(svm_tfidf)"
   ]
  },
  {
   "cell_type": "markdown",
   "metadata": {},
   "source": [
    "## Model performance on test data"
   ]
  },
  {
   "cell_type": "code",
   "execution_count": 387,
   "metadata": {},
   "outputs": [
    {
     "name": "stdout",
     "output_type": "stream",
     "text": [
      "[1 1 0 ... 1 1 1]\n",
      "[1 1 0 ... 1 1 1]\n"
     ]
    }
   ],
   "source": [
    "#Predicting the model for bag of words\n",
    "svm_bow_predict = svm.predict(cv_test_tweets)\n",
    "print(svm_bow_predict)\n",
    "\n",
    "#Predicting the model for tfidf features\n",
    "svm_tfidf_predict = svm.predict(tv_test_tweets)\n",
    "print(svm_tfidf_predict)"
   ]
  },
  {
   "cell_type": "markdown",
   "metadata": {},
   "source": [
    "## Accuracy of the model"
   ]
  },
  {
   "cell_type": "code",
   "execution_count": 388,
   "metadata": {},
   "outputs": [
    {
     "name": "stdout",
     "output_type": "stream",
     "text": [
      "svm_bow_score : 0.6434579439252337\n",
      "svm_tfidf_score : 0.6350467289719626\n"
     ]
    }
   ],
   "source": [
    "#Accuracy score for bag of words\n",
    "svm_bow_score=accuracy_score(y_test,svm_bow_predict)\n",
    "print(\"svm_bow_score :\",svm_bow_score)\n",
    "\n",
    "#Accuracy score for tfidf features\n",
    "svm_tfidf_score=accuracy_score(y_test,svm_tfidf_predict)\n",
    "print(\"svm_tfidf_score :\",svm_tfidf_score)"
   ]
  },
  {
   "cell_type": "markdown",
   "metadata": {},
   "source": [
    "## Print the classification report"
   ]
  },
  {
   "cell_type": "code",
   "execution_count": 389,
   "metadata": {},
   "outputs": [
    {
     "name": "stdout",
     "output_type": "stream",
     "text": [
      "              precision    recall  f1-score   support\n",
      "\n",
      "    Positive       0.68      0.52      0.59      1053\n",
      "    Negative       0.62      0.76      0.69      1087\n",
      "\n",
      "    accuracy                           0.64      2140\n",
      "   macro avg       0.65      0.64      0.64      2140\n",
      "weighted avg       0.65      0.64      0.64      2140\n",
      "\n",
      "              precision    recall  f1-score   support\n",
      "\n",
      "    Positive       0.68      0.48      0.57      1053\n",
      "    Negative       0.61      0.78      0.68      1087\n",
      "\n",
      "    accuracy                           0.64      2140\n",
      "   macro avg       0.65      0.63      0.63      2140\n",
      "weighted avg       0.65      0.64      0.63      2140\n",
      "\n"
     ]
    }
   ],
   "source": [
    "#Classification report for bag of words \n",
    "svm_bow_report=classification_report(y_test,svm_bow_predict,target_names=['Positive','Negative'])\n",
    "print(svm_bow_report)\n",
    "\n",
    "#Classification report for tfidf features\n",
    "svm_tfidf_report=classification_report(y_test,svm_tfidf_predict,target_names=['Positive','Negative'])\n",
    "print(svm_tfidf_report)"
   ]
  },
  {
   "cell_type": "markdown",
   "metadata": {},
   "source": [
    "# Plot the confusion matrix"
   ]
  },
  {
   "cell_type": "code",
   "execution_count": 393,
   "metadata": {},
   "outputs": [
    {
     "name": "stdout",
     "output_type": "stream",
     "text": [
      "[[547 506]\n",
      " [257 830]]\n",
      "[[510 543]\n",
      " [238 849]]\n"
     ]
    }
   ],
   "source": [
    "#confusion matrix for bag of words\n",
    "cm_bow = confusion_matrix(y_test,svm_bow_predict,labels=[0,1])\n",
    "print(cm_bow)\n",
    "\n",
    "#confusion matrix for tfidf features\n",
    "cm_tfidf = confusion_matrix(y_test,svm_tfidf_predict,labels=[0,1])\n",
    "print(cm_tfidf)"
   ]
  },
  {
   "cell_type": "markdown",
   "metadata": {},
   "source": [
    "# Multinomial Naive Bayes for bag of words and tfidf features"
   ]
  },
  {
   "cell_type": "code",
   "execution_count": 395,
   "metadata": {},
   "outputs": [
    {
     "name": "stdout",
     "output_type": "stream",
     "text": [
      "MultinomialNB(alpha=1.0, class_prior=None, fit_prior=True)\n",
      "MultinomialNB(alpha=1.0, class_prior=None, fit_prior=True)\n"
     ]
    }
   ],
   "source": [
    "from sklearn.naive_bayes import MultinomialNB\n",
    "\n",
    "#training the model\n",
    "mnb = MultinomialNB()\n",
    "\n",
    "#fitting the svm for bag of words\n",
    "mnb_bow = mnb.fit(cv_train_tweets,y_train)\n",
    "print(mnb_bow)\n",
    "\n",
    "#fitting the svm for tfidf features\n",
    "mnb_tfidf = mnb.fit(tv_train_tweets,y_train)\n",
    "print(mnb_tfidf)"
   ]
  },
  {
   "cell_type": "markdown",
   "metadata": {},
   "source": [
    "## Model performance on test data"
   ]
  },
  {
   "cell_type": "code",
   "execution_count": 396,
   "metadata": {},
   "outputs": [
    {
     "name": "stdout",
     "output_type": "stream",
     "text": [
      "[1 1 0 ... 1 1 1]\n",
      "[1 1 0 ... 1 1 1]\n"
     ]
    }
   ],
   "source": [
    "#Predicting the model for bag of words\n",
    "mnb_bow_predict=mnb.predict(cv_test_tweets)\n",
    "print(mnb_bow_predict)\n",
    "#Predicting the model for tfidf features\n",
    "mnb_tfidf_predict=mnb.predict(tv_test_tweets)\n",
    "print(mnb_tfidf_predict)"
   ]
  },
  {
   "cell_type": "markdown",
   "metadata": {},
   "source": [
    "## Accuracy of the model"
   ]
  },
  {
   "cell_type": "code",
   "execution_count": 397,
   "metadata": {},
   "outputs": [
    {
     "name": "stdout",
     "output_type": "stream",
     "text": [
      "mnb_bow_score : 0.6364485981308411\n",
      "mnb_tfidf_score : 0.6322429906542056\n"
     ]
    }
   ],
   "source": [
    "#Accuracy score for bag of words\n",
    "mnb_bow_score = accuracy_score(y_test,mnb_bow_predict)\n",
    "print(\"mnb_bow_score :\",mnb_bow_score)\n",
    "\n",
    "#Accuracy score for tfidf features\n",
    "mnb_tfidf_score = accuracy_score(y_test,mnb_tfidf_predict)\n",
    "print(\"mnb_tfidf_score :\",mnb_tfidf_score)"
   ]
  },
  {
   "cell_type": "markdown",
   "metadata": {},
   "source": [
    "## Print the classification report"
   ]
  },
  {
   "cell_type": "code",
   "execution_count": 398,
   "metadata": {},
   "outputs": [
    {
     "name": "stdout",
     "output_type": "stream",
     "text": [
      "              precision    recall  f1-score   support\n",
      "\n",
      "    Positive       0.68      0.50      0.57      1053\n",
      "    Negative       0.61      0.77      0.68      1087\n",
      "\n",
      "    accuracy                           0.64      2140\n",
      "   macro avg       0.65      0.63      0.63      2140\n",
      "weighted avg       0.64      0.64      0.63      2140\n",
      "\n",
      "              precision    recall  f1-score   support\n",
      "\n",
      "    Positive       0.68      0.48      0.56      1053\n",
      "    Negative       0.61      0.78      0.68      1087\n",
      "\n",
      "    accuracy                           0.63      2140\n",
      "   macro avg       0.64      0.63      0.62      2140\n",
      "weighted avg       0.64      0.63      0.62      2140\n",
      "\n"
     ]
    }
   ],
   "source": [
    "#Classification report for bag of words \n",
    "mnb_bow_report = classification_report(y_test,mnb_bow_predict,target_names=['Positive','Negative'])\n",
    "print(mnb_bow_report)\n",
    "\n",
    "#Classification report for tfidf features\n",
    "mnb_tfidf_report = classification_report(y_test,mnb_tfidf_predict,target_names=['Positive','Negative'])\n",
    "print(mnb_tfidf_report)"
   ]
  },
  {
   "cell_type": "markdown",
   "metadata": {},
   "source": [
    "## Plot the confusion matrix"
   ]
  },
  {
   "cell_type": "code",
   "execution_count": 399,
   "metadata": {},
   "outputs": [
    {
     "name": "stdout",
     "output_type": "stream",
     "text": [
      "[[526 527]\n",
      " [251 836]]\n",
      "[[502 551]\n",
      " [236 851]]\n"
     ]
    }
   ],
   "source": [
    "#confusion matrix for bag of words\n",
    "cm_bow = confusion_matrix(y_test,mnb_bow_predict,labels=[0,1])\n",
    "print(cm_bow)\n",
    "\n",
    "#confusion matrix for tfidf features\n",
    "cm_tfidf = confusion_matrix(y_test,mnb_tfidf_predict,labels=[0,1])\n",
    "print(cm_tfidf)"
   ]
  },
  {
   "cell_type": "markdown",
   "metadata": {},
   "source": [
    "## Word cloud for positive review words"
   ]
  },
  {
   "cell_type": "code",
   "execution_count": 407,
   "metadata": {},
   "outputs": [
    {
     "data": {
      "text/plain": [
       "<function matplotlib.pyplot.show(*args, **kw)>"
      ]
     },
     "execution_count": 407,
     "metadata": {},
     "output_type": "execute_result"
    },
    {
     "data": {
      "image/png": "[encoded data removed]",
      "text/plain": [
       "<Figure size 720x720 with 1 Axes>"
      ]
     },
     "metadata": {
      "needs_background": "light"
     },
     "output_type": "display_data"
    }
   ],
   "source": [
    "#word cloud for positive review words\n",
    "plt.figure(figsize=(10,10))\n",
    "positive_text = X_train[4]\n",
    "WC = WordCloud(width=1000,height=500,max_words=500,min_font_size=5)\n",
    "positive_words = WC.generate(positive_text)\n",
    "plt.imshow(positive_words,interpolation='bilinear')\n",
    "plt.show"
   ]
  },
  {
   "cell_type": "markdown",
   "metadata": {},
   "source": [
    "## Word cloud for negative review words"
   ]
  },
  {
   "cell_type": "code",
   "execution_count": 406,
   "metadata": {},
   "outputs": [
    {
     "data": {
      "text/plain": [
       "<function matplotlib.pyplot.show(*args, **kw)>"
      ]
     },
     "execution_count": 406,
     "metadata": {},
     "output_type": "execute_result"
    },
    {
     "data": {
      "image/png": "[encoded data removed]",
      "text/plain": [
       "<Figure size 720x720 with 1 Axes>"
      ]
     },
     "metadata": {
      "needs_background": "light"
     },
     "output_type": "display_data"
    }
   ],
   "source": [
    "#Word cloud for negative review words\n",
    "plt.figure(figsize=(10,10))\n",
    "negative_text = X_train[3]\n",
    "WC = WordCloud(width=1000,height=500,max_words=500,min_font_size=5)\n",
    "negative_words = WC.generate(negative_text)\n",
    "plt.imshow(negative_words,interpolation='bilinear')\n",
    "plt.show"
   ]
  },
  {
   "cell_type": "code",
   "execution_count": 377,
   "metadata": {},
   "outputs": [
    {
     "data": {
      "text/plain": [
       "0.5155373831775701"
      ]
     },
     "execution_count": 377,
     "metadata": {},
     "output_type": "execute_result"
    }
   ],
   "source": [
    "from sklearn.model_selection import cross_val_score # import cross_val_score from sklear.model_selection\n",
    "accuracies = cross_val_score(estimator = lr, X = tv_train_tweets, y = y_train, cv = 10) # do K- fold cross validation on our traing data and its sentimenst with 10 fold cross validation\n",
    "accuracies.mean() # measure the mean accuray of 10 fold cross validation"
   ]
  },
  {
   "cell_type": "code",
   "execution_count": 378,
   "metadata": {},
   "outputs": [],
   "source": [
    "y_pred_lg = lr.predict(tv_test_tweets)  # predict the sentiments of testing data tweets"
   ]
  },
  {
   "cell_type": "code",
   "execution_count": 379,
   "metadata": {},
   "outputs": [
    {
     "data": {
      "text/plain": [
       "0.6135514018691589"
      ]
     },
     "execution_count": 379,
     "metadata": {},
     "output_type": "execute_result"
    }
   ],
   "source": [
    "from sklearn import metrics # import metrics from sklearn\n",
    "metrics.accuracy_score(y_test, y_pred_lg) # measure the accuracy of our model on the testing data\n"
   ]
  },
  {
   "cell_type": "code",
   "execution_count": 380,
   "metadata": {},
   "outputs": [
    {
     "data": {
      "text/plain": [
       "array([[384, 669],\n",
       "       [158, 929]])"
      ]
     },
     "execution_count": 380,
     "metadata": {},
     "output_type": "execute_result"
    }
   ],
   "source": [
    "from sklearn.metrics import confusion_matrix # import confusion matrix from the sklearn.metrics\n",
    "confusion_matrix(y_test, y_pred_lg) # plot the confusion matrix between our predicted sentiments and the original testing data sentiments"
   ]
  },
  {
   "cell_type": "code",
   "execution_count": null,
   "metadata": {},
   "outputs": [],
   "source": []
  },
  {
   "cell_type": "code",
   "execution_count": 408,
   "metadata": {},
   "outputs": [
    {
     "ename": "ValueError",
     "evalue": "Expected 2D array, got 1D array instead:\narray=['süperonline kullandıkça mutlu oluyorum '].\nReshape your data either using array.reshape(-1, 1) if your data has a single feature or array.reshape(1, -1) if it contains a single sample.",
     "output_type": "error",
     "traceback": [
      "\u001b[0;31m---------------------------------------------------------------------------\u001b[0m",
      "\u001b[0;31mValueError\u001b[0m                                Traceback (most recent call last)",
      "\u001b[0;32m<ipython-input-408-7d72256d11e2>\u001b[0m in \u001b[0;36m<module>\u001b[0;34m\u001b[0m\n\u001b[1;32m      1\u001b[0m \u001b[0mmsg_test2\u001b[0m\u001b[0;34m=\u001b[0m\u001b[0;34m[\u001b[0m\u001b[0;34m\"süperonline kullandıkça mutlu oluyorum \"\u001b[0m\u001b[0;34m]\u001b[0m\u001b[0;34m\u001b[0m\u001b[0;34m\u001b[0m\u001b[0m\n\u001b[0;32m----> 2\u001b[0;31m \u001b[0my_pred_class\u001b[0m \u001b[0;34m=\u001b[0m \u001b[0msvm\u001b[0m\u001b[0;34m.\u001b[0m\u001b[0mpredict\u001b[0m\u001b[0;34m(\u001b[0m\u001b[0mmsg_test2\u001b[0m\u001b[0;34m)\u001b[0m\u001b[0;34m\u001b[0m\u001b[0;34m\u001b[0m\u001b[0m\n\u001b[0m\u001b[1;32m      3\u001b[0m \u001b[0mprint\u001b[0m\u001b[0;34m(\u001b[0m\u001b[0my_pred_class\u001b[0m\u001b[0;34m)\u001b[0m\u001b[0;34m\u001b[0m\u001b[0;34m\u001b[0m\u001b[0m\n",
      "\u001b[0;32m~/anaconda3/lib/python3.7/site-packages/sklearn/linear_model/_base.py\u001b[0m in \u001b[0;36mpredict\u001b[0;34m(self, X)\u001b[0m\n\u001b[1;32m    291\u001b[0m             \u001b[0mPredicted\u001b[0m \u001b[0;32mclass\u001b[0m \u001b[0mlabel\u001b[0m \u001b[0mper\u001b[0m \u001b[0msample\u001b[0m\u001b[0;34m.\u001b[0m\u001b[0;34m\u001b[0m\u001b[0;34m\u001b[0m\u001b[0m\n\u001b[1;32m    292\u001b[0m         \"\"\"\n\u001b[0;32m--> 293\u001b[0;31m         \u001b[0mscores\u001b[0m \u001b[0;34m=\u001b[0m \u001b[0mself\u001b[0m\u001b[0;34m.\u001b[0m\u001b[0mdecision_function\u001b[0m\u001b[0;34m(\u001b[0m\u001b[0mX\u001b[0m\u001b[0;34m)\u001b[0m\u001b[0;34m\u001b[0m\u001b[0;34m\u001b[0m\u001b[0m\n\u001b[0m\u001b[1;32m    294\u001b[0m         \u001b[0;32mif\u001b[0m \u001b[0mlen\u001b[0m\u001b[0;34m(\u001b[0m\u001b[0mscores\u001b[0m\u001b[0;34m.\u001b[0m\u001b[0mshape\u001b[0m\u001b[0;34m)\u001b[0m \u001b[0;34m==\u001b[0m \u001b[0;36m1\u001b[0m\u001b[0;34m:\u001b[0m\u001b[0;34m\u001b[0m\u001b[0;34m\u001b[0m\u001b[0m\n\u001b[1;32m    295\u001b[0m             \u001b[0mindices\u001b[0m \u001b[0;34m=\u001b[0m \u001b[0;34m(\u001b[0m\u001b[0mscores\u001b[0m \u001b[0;34m>\u001b[0m \u001b[0;36m0\u001b[0m\u001b[0;34m)\u001b[0m\u001b[0;34m.\u001b[0m\u001b[0mastype\u001b[0m\u001b[0;34m(\u001b[0m\u001b[0mnp\u001b[0m\u001b[0;34m.\u001b[0m\u001b[0mint\u001b[0m\u001b[0;34m)\u001b[0m\u001b[0;34m\u001b[0m\u001b[0;34m\u001b[0m\u001b[0m\n",
      "\u001b[0;32m~/anaconda3/lib/python3.7/site-packages/sklearn/linear_model/_base.py\u001b[0m in \u001b[0;36mdecision_function\u001b[0;34m(self, X)\u001b[0m\n\u001b[1;32m    266\u001b[0m         \u001b[0mcheck_is_fitted\u001b[0m\u001b[0;34m(\u001b[0m\u001b[0mself\u001b[0m\u001b[0;34m)\u001b[0m\u001b[0;34m\u001b[0m\u001b[0;34m\u001b[0m\u001b[0m\n\u001b[1;32m    267\u001b[0m \u001b[0;34m\u001b[0m\u001b[0m\n\u001b[0;32m--> 268\u001b[0;31m         \u001b[0mX\u001b[0m \u001b[0;34m=\u001b[0m \u001b[0mcheck_array\u001b[0m\u001b[0;34m(\u001b[0m\u001b[0mX\u001b[0m\u001b[0;34m,\u001b[0m \u001b[0maccept_sparse\u001b[0m\u001b[0;34m=\u001b[0m\u001b[0;34m'csr'\u001b[0m\u001b[0;34m)\u001b[0m\u001b[0;34m\u001b[0m\u001b[0;34m\u001b[0m\u001b[0m\n\u001b[0m\u001b[1;32m    269\u001b[0m \u001b[0;34m\u001b[0m\u001b[0m\n\u001b[1;32m    270\u001b[0m         \u001b[0mn_features\u001b[0m \u001b[0;34m=\u001b[0m \u001b[0mself\u001b[0m\u001b[0;34m.\u001b[0m\u001b[0mcoef_\u001b[0m\u001b[0;34m.\u001b[0m\u001b[0mshape\u001b[0m\u001b[0;34m[\u001b[0m\u001b[0;36m1\u001b[0m\u001b[0;34m]\u001b[0m\u001b[0;34m\u001b[0m\u001b[0;34m\u001b[0m\u001b[0m\n",
      "\u001b[0;32m~/anaconda3/lib/python3.7/site-packages/sklearn/utils/validation.py\u001b[0m in \u001b[0;36mcheck_array\u001b[0;34m(array, accept_sparse, accept_large_sparse, dtype, order, copy, force_all_finite, ensure_2d, allow_nd, ensure_min_samples, ensure_min_features, warn_on_dtype, estimator)\u001b[0m\n\u001b[1;32m    554\u001b[0m                     \u001b[0;34m\"Reshape your data either using array.reshape(-1, 1) if \"\u001b[0m\u001b[0;34m\u001b[0m\u001b[0;34m\u001b[0m\u001b[0m\n\u001b[1;32m    555\u001b[0m                     \u001b[0;34m\"your data has a single feature or array.reshape(1, -1) \"\u001b[0m\u001b[0;34m\u001b[0m\u001b[0;34m\u001b[0m\u001b[0m\n\u001b[0;32m--> 556\u001b[0;31m                     \"if it contains a single sample.\".format(array))\n\u001b[0m\u001b[1;32m    557\u001b[0m \u001b[0;34m\u001b[0m\u001b[0m\n\u001b[1;32m    558\u001b[0m         \u001b[0;31m# in the future np.flexible dtypes will be handled like object dtypes\u001b[0m\u001b[0;34m\u001b[0m\u001b[0;34m\u001b[0m\u001b[0;34m\u001b[0m\u001b[0m\n",
      "\u001b[0;31mValueError\u001b[0m: Expected 2D array, got 1D array instead:\narray=['süperonline kullandıkça mutlu oluyorum '].\nReshape your data either using array.reshape(-1, 1) if your data has a single feature or array.reshape(1, -1) if it contains a single sample."
     ]
    }
   ],
   "source": [
    "msg_test2=[\"süperonline kullandıkça mutlu oluyorum\"]\n",
    "y_pred_class = svm.predict(msg_test2)\n",
    "print(y_pred_class)"
   ]
  },
  {
   "cell_type": "code",
   "execution_count": null,
   "metadata": {},
   "outputs": [],
   "source": []
  },
  {
   "cell_type": "code",
   "execution_count": null,
   "metadata": {},
   "outputs": [],
   "source": []
  },
  {
   "cell_type": "code",
   "execution_count": null,
   "metadata": {},
   "outputs": [],
   "source": []
  },
  {
   "cell_type": "code",
   "execution_count": null,
   "metadata": {},
   "outputs": [],
   "source": []
  },
  {
   "cell_type": "code",
   "execution_count": null,
   "metadata": {},
   "outputs": [],
   "source": []
  }
 ],
 "metadata": {
  "kernelspec": {
   "display_name": "Python 3",
   "language": "python",
   "name": "python3"
  },
  "language_info": {
   "codemirror_mode": {
    "name": "ipython",
    "version": 3
   },
   "file_extension": ".py",
   "mimetype": "text/x-python",
   "name": "python",
   "nbconvert_exporter": "python",
   "pygments_lexer": "ipython3",
   "version": "3.7.6"
  }
 },
 "nbformat": 4,
 "nbformat_minor": 4
}
